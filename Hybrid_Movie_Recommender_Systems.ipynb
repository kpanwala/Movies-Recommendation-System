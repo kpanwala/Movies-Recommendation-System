{
  "nbformat": 4,
  "nbformat_minor": 0,
  "metadata": {
    "kernelspec": {
      "name": "python3",
      "display_name": "Python 3",
      "language": "python"
    },
    "language_info": {
      "name": "python",
      "file_extension": ".py",
      "codemirror_mode": {
        "name": "ipython",
        "version": 3
      },
      "pygments_lexer": "ipython3",
      "mimetype": "text/x-python",
      "nbconvert_exporter": "python",
      "version": "3.6.3"
    },
    "colab": {
      "name": "Movie Recommender Systems.ipynb",
      "provenance": [],
      "collapsed_sections": [
        "qiyt3LHcussg",
        "L5lCC9NDussp"
      ],
      "toc_visible": true
    }
  },
  "cells": [
    {
      "cell_type": "markdown",
      "metadata": {
        "_uuid": "b63091dc0b9d04f19ab8861754a83b79c1789e96",
        "_cell_guid": "da447453-96e3-48fe-93cd-b9195433add6",
        "id": "BQ21M5BKusrX",
        "colab_type": "text"
      },
      "source": [
        "# Movies Recommender System"
      ]
    },
    {
      "cell_type": "markdown",
      "metadata": {
        "_uuid": "93799938d163a5c4d6097e04fc566c04a1237718",
        "_cell_guid": "5ec09319-a139-488b-b9fa-51780fd771dc",
        "id": "VVWCFaJPusra",
        "colab_type": "text"
      },
      "source": [
        "![](http://labs.criteo.com/wp-content/uploads/2017/08/CustomersWhoBought3.jpg)"
      ]
    },
    {
      "cell_type": "markdown",
      "metadata": {
        "_uuid": "c9e02ccf7a6f04280a8a949fe82cc3c12f8a769f",
        "_cell_guid": "351091d0-4223-4510-b737-3d109883c4bf",
        "id": "brTY8uhJusrc",
        "colab_type": "text"
      },
      "source": [
        "This is the second part of my Springboard Capstone Project on Movie Data Analysis and Recommendation Systems. In my first notebook ( [The Story of Film](https://www.kaggle.com/rounakbanik/the-story-of-film/) ), I attempted at narrating the story of film by performing an extensive exploratory data analysis on Movies Metadata collected from TMDB. I also built two extremely minimalist predictive models to predict movie revenue and movie success and visualise which features influence the output (revenue and success respectively).\n",
        "\n",
        "In this notebook, I will attempt at implementing a few recommendation algorithms (content based, popularity based and collaborative filtering) and try to build an ensemble of these models to come up with our final recommendation system. With us, we have two MovieLens datasets.\n",
        "\n",
        "* **The Full Dataset:** Consists of 26,000,000 ratings and 750,000 tag applications applied to 45,000 movies by 270,000 users. Includes tag genome data with 12 million relevance scores across 1,100 tags.\n",
        "* **The Small Dataset:** Comprises of 100,000 ratings and 1,300 tag applications applied to 9,000 movies by 700 users.\n",
        "\n",
        "I will build a Simple Recommender using movies from the *Full Dataset* whereas all personalised recommender systems will make use of the small dataset (due to the computing power I possess being very limited). As a first step, I will build my simple recommender system."
      ]
    },
    {
      "cell_type": "code",
      "metadata": {
        "_uuid": "1c291fe3725c706e0003f01f0102abb9709f25fc",
        "_cell_guid": "78fea705-f9ad-4a81-aafd-8b7b624110d1",
        "id": "D3MQiXoausre",
        "colab_type": "code",
        "colab": {}
      },
      "source": [
        "%matplotlib inline\n",
        "import pandas as pd\n",
        "import numpy as np\n",
        "import matplotlib.pyplot as plt\n",
        "import seaborn as sns\n",
        "from scipy import stats\n",
        "from ast import literal_eval\n",
        "from sklearn.feature_extraction.text import TfidfVectorizer, CountVectorizer\n",
        "from sklearn.metrics.pairwise import linear_kernel, cosine_similarity\n",
        "from nltk.stem.snowball import SnowballStemmer\n",
        "from nltk.stem.wordnet import WordNetLemmatizer\n",
        "from nltk.corpus import wordnet\n",
        "#!pip install surprise\n",
        "from surprise import Reader, Dataset, SVD\n",
        "\n",
        "import warnings; warnings.simplefilter('ignore')"
      ],
      "execution_count": 0,
      "outputs": []
    },
    {
      "cell_type": "markdown",
      "metadata": {
        "_uuid": "49131e65f312719487848f6ef42488041a44028e",
        "_cell_guid": "f130bae8-1bb0-415d-9a39-557fe180b490",
        "id": "wlKf2DgEusro",
        "colab_type": "text"
      },
      "source": [
        "## Simple Recommender\n",
        "\n",
        "The Simple Recommender offers generalized recommnendations to every user based on movie popularity and (sometimes) genre. The basic idea behind this recommender is that movies that are more popular and more critically acclaimed will have a higher probability of being liked by the average audience. This model does not give personalized recommendations based on the user. \n",
        "\n",
        "The implementation of this model is extremely trivial. All we have to do is sort our movies based on ratings and popularity and display the top movies of our list. As an added step, we can pass in a genre argument to get the top movies of a particular genre. "
      ]
    },
    {
      "cell_type": "code",
      "metadata": {
        "id": "2qrWbroNw1kV",
        "colab_type": "code",
        "colab": {
          "resources": {
            "http://localhost:8080/nbextensions/google.colab/files.js": {
              "data": "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",
              "ok": true,
              "headers": [
                [
                  "content-type",
                  "application/javascript"
                ]
              ],
              "status": 200,
              "status_text": ""
            }
          },
          "base_uri": "https://localhost:8080/",
          "height": 147
        },
        "outputId": "a77f8a1c-5c2b-4ec0-ad10-00884f2e6055"
      },
      "source": [
        "from google.colab import files\n",
        "files.upload()\n",
        "\n",
        "!mkdir ~p ~/.kaggle\n",
        "!cp kaggle.json ~/.kaggle/\n",
        "\n",
        "!chmod 600 ~/.kaggle/kaggle.json\n",
        "\n",
        "!kaggle datasets download -d rounakbanik/the-movies-dataset\n",
        "\n",
        "from zipfile import ZipFile\n",
        "file_name=\"the-movies-dataset.zip\"\n",
        "\n",
        "with ZipFile(file_name,'r') as zip:\n",
        "  zip.extractall()\n",
        "  print('done')"
      ],
      "execution_count": 1,
      "outputs": [
        {
          "output_type": "display_data",
          "data": {
            "text/html": [
              "\n",
              "     <input type=\"file\" id=\"files-64714f01-a43d-4aa0-b63a-75b6b871fe7d\" name=\"files[]\" multiple disabled />\n",
              "     <output id=\"result-64714f01-a43d-4aa0-b63a-75b6b871fe7d\">\n",
              "      Upload widget is only available when the cell has been executed in the\n",
              "      current browser session. Please rerun this cell to enable.\n",
              "      </output>\n",
              "      <script src=\"/nbextensions/google.colab/files.js\"></script> "
            ],
            "text/plain": [
              "<IPython.core.display.HTML object>"
            ]
          },
          "metadata": {
            "tags": []
          }
        },
        {
          "output_type": "stream",
          "text": [
            "Saving kaggle.json to kaggle.json\n",
            "Downloading the-movies-dataset.zip to /content\n",
            " 95% 217M/228M [00:02<00:00, 49.0MB/s]\n",
            "100% 228M/228M [00:02<00:00, 80.6MB/s]\n",
            "done\n"
          ],
          "name": "stdout"
        }
      ]
    },
    {
      "cell_type": "code",
      "metadata": {
        "_uuid": "e0d62612bc9b9e9561afdc48fd1e75a9b0c82337",
        "_cell_guid": "0356d2a0-d8b2-4234-af78-bd51eaa3a390",
        "id": "6Q1rxKOuusrq",
        "colab_type": "code",
        "colab": {
          "base_uri": "https://localhost:8080/",
          "height": 663
        },
        "outputId": "02f17382-45e9-419e-8222-ca922437b995"
      },
      "source": [
        "md = pd.read_csv('./movies_metadata.csv')\n",
        "md.head()"
      ],
      "execution_count": 6,
      "outputs": [
        {
          "output_type": "execute_result",
          "data": {
            "text/html": [
              "<div>\n",
              "<style scoped>\n",
              "    .dataframe tbody tr th:only-of-type {\n",
              "        vertical-align: middle;\n",
              "    }\n",
              "\n",
              "    .dataframe tbody tr th {\n",
              "        vertical-align: top;\n",
              "    }\n",
              "\n",
              "    .dataframe thead th {\n",
              "        text-align: right;\n",
              "    }\n",
              "</style>\n",
              "<table border=\"1\" class=\"dataframe\">\n",
              "  <thead>\n",
              "    <tr style=\"text-align: right;\">\n",
              "      <th></th>\n",
              "      <th>adult</th>\n",
              "      <th>belongs_to_collection</th>\n",
              "      <th>budget</th>\n",
              "      <th>genres</th>\n",
              "      <th>homepage</th>\n",
              "      <th>id</th>\n",
              "      <th>imdb_id</th>\n",
              "      <th>original_language</th>\n",
              "      <th>original_title</th>\n",
              "      <th>overview</th>\n",
              "      <th>popularity</th>\n",
              "      <th>poster_path</th>\n",
              "      <th>production_companies</th>\n",
              "      <th>production_countries</th>\n",
              "      <th>release_date</th>\n",
              "      <th>revenue</th>\n",
              "      <th>runtime</th>\n",
              "      <th>spoken_languages</th>\n",
              "      <th>status</th>\n",
              "      <th>tagline</th>\n",
              "      <th>title</th>\n",
              "      <th>video</th>\n",
              "      <th>vote_average</th>\n",
              "      <th>vote_count</th>\n",
              "    </tr>\n",
              "  </thead>\n",
              "  <tbody>\n",
              "    <tr>\n",
              "      <th>0</th>\n",
              "      <td>False</td>\n",
              "      <td>{'id': 10194, 'name': 'Toy Story Collection', ...</td>\n",
              "      <td>30000000</td>\n",
              "      <td>[{'id': 16, 'name': 'Animation'}, {'id': 35, '...</td>\n",
              "      <td>http://toystory.disney.com/toy-story</td>\n",
              "      <td>862</td>\n",
              "      <td>tt0114709</td>\n",
              "      <td>en</td>\n",
              "      <td>Toy Story</td>\n",
              "      <td>Led by Woody, Andy's toys live happily in his ...</td>\n",
              "      <td>21.9469</td>\n",
              "      <td>/rhIRbceoE9lR4veEXuwCC2wARtG.jpg</td>\n",
              "      <td>[{'name': 'Pixar Animation Studios', 'id': 3}]</td>\n",
              "      <td>[{'iso_3166_1': 'US', 'name': 'United States o...</td>\n",
              "      <td>1995-10-30</td>\n",
              "      <td>373554033.0</td>\n",
              "      <td>81.0</td>\n",
              "      <td>[{'iso_639_1': 'en', 'name': 'English'}]</td>\n",
              "      <td>Released</td>\n",
              "      <td>NaN</td>\n",
              "      <td>Toy Story</td>\n",
              "      <td>False</td>\n",
              "      <td>7.7</td>\n",
              "      <td>5415.0</td>\n",
              "    </tr>\n",
              "    <tr>\n",
              "      <th>1</th>\n",
              "      <td>False</td>\n",
              "      <td>NaN</td>\n",
              "      <td>65000000</td>\n",
              "      <td>[{'id': 12, 'name': 'Adventure'}, {'id': 14, '...</td>\n",
              "      <td>NaN</td>\n",
              "      <td>8844</td>\n",
              "      <td>tt0113497</td>\n",
              "      <td>en</td>\n",
              "      <td>Jumanji</td>\n",
              "      <td>When siblings Judy and Peter discover an encha...</td>\n",
              "      <td>17.0155</td>\n",
              "      <td>/vzmL6fP7aPKNKPRTFnZmiUfciyV.jpg</td>\n",
              "      <td>[{'name': 'TriStar Pictures', 'id': 559}, {'na...</td>\n",
              "      <td>[{'iso_3166_1': 'US', 'name': 'United States o...</td>\n",
              "      <td>1995-12-15</td>\n",
              "      <td>262797249.0</td>\n",
              "      <td>104.0</td>\n",
              "      <td>[{'iso_639_1': 'en', 'name': 'English'}, {'iso...</td>\n",
              "      <td>Released</td>\n",
              "      <td>Roll the dice and unleash the excitement!</td>\n",
              "      <td>Jumanji</td>\n",
              "      <td>False</td>\n",
              "      <td>6.9</td>\n",
              "      <td>2413.0</td>\n",
              "    </tr>\n",
              "    <tr>\n",
              "      <th>2</th>\n",
              "      <td>False</td>\n",
              "      <td>{'id': 119050, 'name': 'Grumpy Old Men Collect...</td>\n",
              "      <td>0</td>\n",
              "      <td>[{'id': 10749, 'name': 'Romance'}, {'id': 35, ...</td>\n",
              "      <td>NaN</td>\n",
              "      <td>15602</td>\n",
              "      <td>tt0113228</td>\n",
              "      <td>en</td>\n",
              "      <td>Grumpier Old Men</td>\n",
              "      <td>A family wedding reignites the ancient feud be...</td>\n",
              "      <td>11.7129</td>\n",
              "      <td>/6ksm1sjKMFLbO7UY2i6G1ju9SML.jpg</td>\n",
              "      <td>[{'name': 'Warner Bros.', 'id': 6194}, {'name'...</td>\n",
              "      <td>[{'iso_3166_1': 'US', 'name': 'United States o...</td>\n",
              "      <td>1995-12-22</td>\n",
              "      <td>0.0</td>\n",
              "      <td>101.0</td>\n",
              "      <td>[{'iso_639_1': 'en', 'name': 'English'}]</td>\n",
              "      <td>Released</td>\n",
              "      <td>Still Yelling. Still Fighting. Still Ready for...</td>\n",
              "      <td>Grumpier Old Men</td>\n",
              "      <td>False</td>\n",
              "      <td>6.5</td>\n",
              "      <td>92.0</td>\n",
              "    </tr>\n",
              "    <tr>\n",
              "      <th>3</th>\n",
              "      <td>False</td>\n",
              "      <td>NaN</td>\n",
              "      <td>16000000</td>\n",
              "      <td>[{'id': 35, 'name': 'Comedy'}, {'id': 18, 'nam...</td>\n",
              "      <td>NaN</td>\n",
              "      <td>31357</td>\n",
              "      <td>tt0114885</td>\n",
              "      <td>en</td>\n",
              "      <td>Waiting to Exhale</td>\n",
              "      <td>Cheated on, mistreated and stepped on, the wom...</td>\n",
              "      <td>3.85949</td>\n",
              "      <td>/16XOMpEaLWkrcPqSQqhTmeJuqQl.jpg</td>\n",
              "      <td>[{'name': 'Twentieth Century Fox Film Corporat...</td>\n",
              "      <td>[{'iso_3166_1': 'US', 'name': 'United States o...</td>\n",
              "      <td>1995-12-22</td>\n",
              "      <td>81452156.0</td>\n",
              "      <td>127.0</td>\n",
              "      <td>[{'iso_639_1': 'en', 'name': 'English'}]</td>\n",
              "      <td>Released</td>\n",
              "      <td>Friends are the people who let you be yourself...</td>\n",
              "      <td>Waiting to Exhale</td>\n",
              "      <td>False</td>\n",
              "      <td>6.1</td>\n",
              "      <td>34.0</td>\n",
              "    </tr>\n",
              "    <tr>\n",
              "      <th>4</th>\n",
              "      <td>False</td>\n",
              "      <td>{'id': 96871, 'name': 'Father of the Bride Col...</td>\n",
              "      <td>0</td>\n",
              "      <td>[{'id': 35, 'name': 'Comedy'}]</td>\n",
              "      <td>NaN</td>\n",
              "      <td>11862</td>\n",
              "      <td>tt0113041</td>\n",
              "      <td>en</td>\n",
              "      <td>Father of the Bride Part II</td>\n",
              "      <td>Just when George Banks has recovered from his ...</td>\n",
              "      <td>8.38752</td>\n",
              "      <td>/e64sOI48hQXyru7naBFyssKFxVd.jpg</td>\n",
              "      <td>[{'name': 'Sandollar Productions', 'id': 5842}...</td>\n",
              "      <td>[{'iso_3166_1': 'US', 'name': 'United States o...</td>\n",
              "      <td>1995-02-10</td>\n",
              "      <td>76578911.0</td>\n",
              "      <td>106.0</td>\n",
              "      <td>[{'iso_639_1': 'en', 'name': 'English'}]</td>\n",
              "      <td>Released</td>\n",
              "      <td>Just When His World Is Back To Normal... He's ...</td>\n",
              "      <td>Father of the Bride Part II</td>\n",
              "      <td>False</td>\n",
              "      <td>5.7</td>\n",
              "      <td>173.0</td>\n",
              "    </tr>\n",
              "  </tbody>\n",
              "</table>\n",
              "</div>"
            ],
            "text/plain": [
              "   adult  ... vote_count\n",
              "0  False  ...     5415.0\n",
              "1  False  ...     2413.0\n",
              "2  False  ...       92.0\n",
              "3  False  ...       34.0\n",
              "4  False  ...      173.0\n",
              "\n",
              "[5 rows x 24 columns]"
            ]
          },
          "metadata": {
            "tags": []
          },
          "execution_count": 6
        }
      ]
    },
    {
      "cell_type": "code",
      "metadata": {
        "_uuid": "d4df4c2158595611f2ea7ad4b16f71900e529ea8",
        "_cell_guid": "f933a861-409a-4df7-98f1-7960a2a3874b",
        "id": "gtEwKaQuusry",
        "colab_type": "code",
        "colab": {}
      },
      "source": [
        "md['genres'] = md['genres'].fillna('[]').apply(literal_eval).apply(lambda x: [i['name'] for i in x] if isinstance(x, list) else [])"
      ],
      "execution_count": 0,
      "outputs": []
    },
    {
      "cell_type": "markdown",
      "metadata": {
        "_uuid": "9571875d383f237f126febe9c76f966e2869fdc3",
        "_cell_guid": "23cf39ba-ef09-4972-9d1f-ed91cb2ef134",
        "id": "YtH_f4PRusr6",
        "colab_type": "text"
      },
      "source": [
        "I use the TMDB Ratings to come up with our **Top Movies Chart.** I will use IMDB's *weighted rating* formula to construct my chart. Mathematically, it is represented as follows:\n",
        "\n",
        "Weighted Rating (WR) = $(\\frac{v}{v + m} . R) + (\\frac{m}{v + m} . C)$\n",
        "\n",
        "where,\n",
        "* *v* is the number of votes for the movie\n",
        "* *m* is the minimum votes required to be listed in the chart\n",
        "* *R* is the average rating of the movie\n",
        "* *C* is the mean vote across the whole report\n",
        "\n",
        "The next step is to determine an appropriate value for *m*, the minimum votes required to be listed in the chart. We will use **95th percentile** as our cutoff. In other words, for a movie to feature in the charts, it must have more votes than at least 95% of the movies in the list.\n",
        "\n",
        "I will build our overall Top 250 Chart and will define a function to build charts for a particular genre. Let's begin!"
      ]
    },
    {
      "cell_type": "code",
      "metadata": {
        "_uuid": "1e732487caba09d9543f3da49cbe7ff5092e2675",
        "_cell_guid": "de5d2a9a-9d67-4309-9256-844756318bd0",
        "id": "kvj44n0kusr7",
        "colab_type": "code",
        "colab": {}
      },
      "source": [
        "vote_counts = md[md['vote_count'].notnull()]['vote_count'].astype('int')\n",
        "vote_averages = md[md['vote_average'].notnull()]['vote_average'].astype('int')\n",
        "C = vote_averages.mean()\n",
        "C"
      ],
      "execution_count": 0,
      "outputs": []
    },
    {
      "cell_type": "code",
      "metadata": {
        "_uuid": "23c2e113380f1bad9205ab2d0f8c372b0c246e79",
        "_cell_guid": "f2a3dff7-6430-471b-bd83-589779ab52b0",
        "id": "968ZK48EussC",
        "colab_type": "code",
        "colab": {}
      },
      "source": [
        "m = vote_counts.quantile(0.95)\n",
        "m"
      ],
      "execution_count": 0,
      "outputs": []
    },
    {
      "cell_type": "code",
      "metadata": {
        "_uuid": "dbb8261dedb84e4a8ea8bed843c9de3ad9f3859d",
        "_cell_guid": "93f480df-6e7b-427c-bbc0-906fd41640b0",
        "id": "_8PtM7bGussI",
        "colab_type": "code",
        "colab": {}
      },
      "source": [
        "md['year'] = pd.to_datetime(md['release_date'], errors='coerce').apply(lambda x: str(x).split('-')[0] if x != np.nan else np.nan)"
      ],
      "execution_count": 0,
      "outputs": []
    },
    {
      "cell_type": "code",
      "metadata": {
        "_uuid": "dcb30bee69ef1a6ead2c745565e5e7bfd5314d7a",
        "_cell_guid": "e7e91af4-7ff5-4553-bfbb-b9339096397e",
        "id": "Y4_Ydj4HussN",
        "colab_type": "code",
        "colab": {}
      },
      "source": [
        "qualified = md[(md['vote_count'] >= m) & (md['vote_count'].notnull()) & (md['vote_average'].notnull())][['title', 'year', 'vote_count', 'vote_average', 'popularity', 'genres']]\n",
        "qualified['vote_count'] = qualified['vote_count'].astype('int')\n",
        "qualified['vote_average'] = qualified['vote_average'].astype('int')\n",
        "qualified.shape"
      ],
      "execution_count": 0,
      "outputs": []
    },
    {
      "cell_type": "markdown",
      "metadata": {
        "_uuid": "4c114ab330fc78c91953166d515a8e963ebc3238",
        "_cell_guid": "46efcb66-53a0-4f6a-b0df-92ba7b623143",
        "id": "_dfCTE8PussS",
        "colab_type": "text"
      },
      "source": [
        "Therefore, to qualify to be considered for the chart, a movie has to have at least **434 votes** on TMDB. We also see that the average rating for a movie on TMDB is **5.244** on a scale of 10. **2274** Movies qualify to be on our chart."
      ]
    },
    {
      "cell_type": "code",
      "metadata": {
        "_uuid": "6414e1aa7ed8cb4184ec451f02a18cd187e5345e",
        "_cell_guid": "db959c40-7618-4755-a05a-5347f9460929",
        "id": "qn9uIUiXussS",
        "colab_type": "code",
        "colab": {}
      },
      "source": [
        "def weighted_rating(x,m,C):\n",
        "    v = x['vote_count']\n",
        "    R = x['vote_average']\n",
        "    return (v/(v+m) * R) + (m/(m+v) * C)"
      ],
      "execution_count": 0,
      "outputs": []
    },
    {
      "cell_type": "code",
      "metadata": {
        "_uuid": "78ec5052b0e89ae51a834aa3a305cf55b6849f42",
        "_cell_guid": "0f5e4384-51be-41df-a023-12a13e77d66c",
        "id": "zdiH8_sWussW",
        "colab_type": "code",
        "colab": {}
      },
      "source": [
        "qualified['wr'] = qualified.apply(weighted_rating, axis=1)"
      ],
      "execution_count": 0,
      "outputs": []
    },
    {
      "cell_type": "code",
      "metadata": {
        "_uuid": "ed0ac7c8483f904d4f5ec0d554096d4782fa8bcf",
        "_cell_guid": "ccbd8eca-cbfe-4843-9885-de11976f117c",
        "id": "XxCeU3-hussa",
        "colab_type": "code",
        "colab": {}
      },
      "source": [
        "qualified = qualified.sort_values('wr', ascending=False).head(250)"
      ],
      "execution_count": 0,
      "outputs": []
    },
    {
      "cell_type": "markdown",
      "metadata": {
        "_uuid": "75eb9e1de05386d229746785a25c6a5c6ee4b61a",
        "_cell_guid": "36a1b9ac-aff3-4d80-9e19-83a45f282062",
        "id": "qiyt3LHcussg",
        "colab_type": "text"
      },
      "source": [
        "### Top Movies"
      ]
    },
    {
      "cell_type": "code",
      "metadata": {
        "_uuid": "f7f6821b7e9aff099b81fcc425fd20109894b351",
        "_cell_guid": "0bca5b03-0835-4902-aaa1-beceb9d9d47f",
        "id": "cPbG-HQFussh",
        "colab_type": "code",
        "colab": {}
      },
      "source": [
        "qualified.head(15)"
      ],
      "execution_count": 0,
      "outputs": []
    },
    {
      "cell_type": "markdown",
      "metadata": {
        "_uuid": "dd0636ab9235cef9afab293696b5c57521cc28b9",
        "_cell_guid": "0942cc17-4e7c-4293-be59-0993261af6e3",
        "id": "KNvsGzKDussj",
        "colab_type": "text"
      },
      "source": [
        "We see that three Christopher Nolan Films, **Inception**, **The Dark Knight** and **Interstellar** occur at the very top of our chart. The chart also indicates a strong bias of TMDB Users towards particular genres and directors. \n",
        "\n",
        "Let us now construct our function that builds charts for particular genres. For this, we will use relax our default conditions to the **85th** percentile instead of 95. "
      ]
    },
    {
      "cell_type": "code",
      "metadata": {
        "_uuid": "b59a35544efcd50e89e4bb1ea14bbfe32fc9bcd3",
        "_cell_guid": "c6be871d-62d4-4ec4-abe4-6ca1b1c01fa0",
        "collapsed": true,
        "id": "S55Eem2qussk",
        "colab_type": "code",
        "colab": {}
      },
      "source": [
        "s = md.apply(lambda x: pd.Series(x['genres']),axis=1).stack().reset_index(level=1, drop=True)\n",
        "s.name = 'genre'\n",
        "gen_md = md.drop('genres', axis=1).join(s)"
      ],
      "execution_count": 0,
      "outputs": []
    },
    {
      "cell_type": "code",
      "metadata": {
        "_uuid": "1fdfea9cd4b046b11ff8f2ac4f2bea74fccb8a8b",
        "_cell_guid": "759652cb-5b16-4951-995c-6a3bdbae0e4e",
        "collapsed": true,
        "id": "3wNfwKEZussm",
        "colab_type": "code",
        "colab": {}
      },
      "source": [
        "def build_chart(genre, percentile=0.85):\n",
        "    df = gen_md[gen_md['genre'] == genre]\n",
        "    vote_counts = df[df['vote_count'].notnull()]['vote_count'].astype('int')\n",
        "    vote_averages = df[df['vote_average'].notnull()]['vote_average'].astype('int')\n",
        "    C = vote_averages.mean()\n",
        "    m = vote_counts.quantile(percentile)\n",
        "    \n",
        "    qualified = df[(df['vote_count'] >= m) & (df['vote_count'].notnull()) & (df['vote_average'].notnull())][['title', 'year', 'vote_count', 'vote_average', 'popularity']]\n",
        "    qualified['vote_count'] = qualified['vote_count'].astype('int')\n",
        "    qualified['vote_average'] = qualified['vote_average'].astype('int')\n",
        "    \n",
        "    qualified['wr'] = qualified.apply(lambda x: (x['vote_count']/(x['vote_count']+m) * x['vote_average']) + (m/(m+x['vote_count']) * C), axis=1)\n",
        "    qualified = qualified.sort_values('wr', ascending=False).head(250)\n",
        "    \n",
        "    return qualified"
      ],
      "execution_count": 0,
      "outputs": []
    },
    {
      "cell_type": "markdown",
      "metadata": {
        "_uuid": "a76ce0f8a8f614aa6f23cb9a6e0fd6af6d048642",
        "_cell_guid": "55f22de0-0df9-405a-9197-df5a8c0e8466",
        "id": "L5lCC9NDussp",
        "colab_type": "text"
      },
      "source": [
        "Let us see our method in action by displaying the Top 15 Romance Movies (Romance almost didn't feature at all in our Generic Top Chart despite  being one of the most popular movie genres).\n",
        "\n",
        "### Top Romance Movies"
      ]
    },
    {
      "cell_type": "code",
      "metadata": {
        "_uuid": "bf2816495a16de1bb84dc826fd33eee7e663f45d",
        "_cell_guid": "af61da24-494b-48ac-b7b7-64ec0eaedaf8",
        "id": "ffBqGfedussp",
        "colab_type": "code",
        "colab": {}
      },
      "source": [
        "build_chart('Romance').head(15)"
      ],
      "execution_count": 0,
      "outputs": []
    },
    {
      "cell_type": "markdown",
      "metadata": {
        "_uuid": "8ffeb5a436b6df369c408c20ba2d6d2b6bfee61b",
        "_cell_guid": "b14398c0-cf96-42ec-a12e-84d98231512a",
        "id": "ERsbpxwfusss",
        "colab_type": "text"
      },
      "source": [
        "The top romance movie according to our metrics is Bollywood's **Dilwale Dulhania Le Jayenge**. This Shahrukh Khan starrer also happens to be one of my personal favorites."
      ]
    },
    {
      "cell_type": "markdown",
      "metadata": {
        "_uuid": "0b0f95bdf966d06c2d7053535d46183b03a75cc1",
        "_cell_guid": "b6e1eb8b-6109-40ff-ab8a-37bd047c03ac",
        "id": "-wLsL8Fmusss",
        "colab_type": "text"
      },
      "source": [
        "## Content Based Recommender\n",
        "\n",
        "The recommender we built in the previous section suffers some severe limitations. For one, it gives the same recommendation to everyone, regardless of the user's personal taste. If a person who loves romantic movies (and hates action) were to look at our Top 15 Chart, s/he wouldn't probably like most of the movies. If s/he were to go one step further and look at our charts by genre, s/he wouldn't still be getting the best recommendations.\n",
        "\n",
        "For instance, consider a person who loves *Dilwale Dulhania Le Jayenge*, *My Name is Khan* and *Kabhi Khushi Kabhi Gham*. One inference we can obtain is that the person loves the actor Shahrukh Khan and the director Karan Johar. Even if s/he were to access the romance chart, s/he wouldn't find these as the top recommendations.\n",
        "\n",
        "To personalise our recommendations more, I am going to build an engine that computes similarity between movies based on certain metrics and suggests movies that are most similar to a particular movie that a user liked. Since we will be using movie metadata (or content) to build this engine, this also known as **Content Based Filtering.**\n",
        "\n",
        "I will build two Content Based Recommenders based on:\n",
        "* Movie Overviews and Taglines\n",
        "* Movie Cast, Crew, Keywords and Genre\n",
        "\n",
        "Also, as mentioned in the introduction, I will be using a subset of all the movies available to us due to limiting computing power available to me. "
      ]
    },
    {
      "cell_type": "code",
      "metadata": {
        "_uuid": "dc237e14c8346bdd51624d21b6b082399afd3062",
        "_cell_guid": "bd5f4440-f90d-46a4-8640-204541d99d40",
        "id": "5wuhEpZqusst",
        "colab_type": "code",
        "colab": {}
      },
      "source": [
        "links_small = pd.read_csv('./links_small.csv')\n",
        "links_small = links_small[links_small['tmdbId'].notnull()]['tmdbId'].astype('int')"
      ],
      "execution_count": 0,
      "outputs": []
    },
    {
      "cell_type": "code",
      "metadata": {
        "_uuid": "6c5af69fefa991d46594401a5eac0656e5980484",
        "_cell_guid": "cda91291-c8d5-475a-8b0f-ab4030d29f62",
        "id": "BDopwS4Sussw",
        "colab_type": "code",
        "colab": {}
      },
      "source": [
        "md = md.drop([19730, 29503, 35587])"
      ],
      "execution_count": 0,
      "outputs": []
    },
    {
      "cell_type": "code",
      "metadata": {
        "_uuid": "87eb84540a3c22a3f7bf54edeee5b491ef571416",
        "_cell_guid": "f68cb861-7c30-4b3d-b655-520379e61d70",
        "id": "rRPzK--dussz",
        "colab_type": "code",
        "colab": {}
      },
      "source": [
        "#Check EDA Notebook for how and why I got these indices.\n",
        "md['id'] = md['id'].astype('int')"
      ],
      "execution_count": 0,
      "outputs": []
    },
    {
      "cell_type": "code",
      "metadata": {
        "_uuid": "3f2a7f55a030beeb06b713f854e4ca6a69b5ca13",
        "_cell_guid": "0b968a6a-6b0d-4df6-9e28-91c06e6c36c2",
        "id": "kqj8Btjtuss2",
        "colab_type": "code",
        "colab": {
          "base_uri": "https://localhost:8080/",
          "height": 35
        },
        "outputId": "8ce0d3ac-cf0c-4a37-8427-1c17a9406d44"
      },
      "source": [
        "smd = md[md['id'].isin(links_small)]\n",
        "smd.shape"
      ],
      "execution_count": 12,
      "outputs": [
        {
          "output_type": "execute_result",
          "data": {
            "text/plain": [
              "(9099, 24)"
            ]
          },
          "metadata": {
            "tags": []
          },
          "execution_count": 12
        }
      ]
    },
    {
      "cell_type": "markdown",
      "metadata": {
        "_uuid": "1ebd72fcc46ac2ac20016ff34dad40a9f8879ac9",
        "_cell_guid": "0f9e6043-68e8-4b0c-a435-e456e19e9144",
        "id": "rsK0N5iXuss4",
        "colab_type": "text"
      },
      "source": [
        "We have **9099** movies avaiable in our small movies metadata dataset which is 5 times smaller than our original dataset of 45000 movies."
      ]
    },
    {
      "cell_type": "markdown",
      "metadata": {
        "_uuid": "c41800b7a9d8b8d48ba1c22b8430929f54e9884e",
        "_cell_guid": "1e73645a-0b0b-441f-93b4-ce92069e1852",
        "id": "f0XGglvwuss4",
        "colab_type": "text"
      },
      "source": [
        "### Movie Description Based Recommender\n",
        "\n",
        "Let us first try to build a recommender using movie descriptions and taglines. We do not have a quantitative metric to judge our machine's performance so this will have to be done qualitatively."
      ]
    },
    {
      "cell_type": "code",
      "metadata": {
        "_uuid": "453bdc941ba5a1e86e17b0f106dc44040c0defdf",
        "_cell_guid": "c880adf9-051b-40cd-8e95-cd8c4acabb17",
        "id": "Hf9Ivj1uuss5",
        "colab_type": "code",
        "colab": {}
      },
      "source": [
        "smd['tagline'] = smd['tagline'].fillna('')\n",
        "smd['description'] = smd['overview'] + smd['tagline']\n",
        "smd['description'] = smd['description'].fillna('')"
      ],
      "execution_count": 0,
      "outputs": []
    },
    {
      "cell_type": "code",
      "metadata": {
        "_uuid": "f9d99726d9f2667fa6fc15ce5c5e31d36a970828",
        "_cell_guid": "6b385623-a978-43c4-b66a-813d5e9c6790",
        "id": "KWUKx0fXuss7",
        "colab_type": "code",
        "colab": {}
      },
      "source": [
        "tf = TfidfVectorizer(analyzer='word',ngram_range=(1, 2),min_df=0, stop_words='english')\n",
        "tfidf_matrix = tf.fit_transform(smd['description'])"
      ],
      "execution_count": 0,
      "outputs": []
    },
    {
      "cell_type": "code",
      "metadata": {
        "_uuid": "6c21cc05d3c13ea637028f2e5836c719986e47c7",
        "_cell_guid": "5e18427c-2ef8-4a98-84e2-323a4af72ade",
        "id": "ExMoAXpLuss-",
        "colab_type": "code",
        "colab": {}
      },
      "source": [
        "tfidf_matrix.shape"
      ],
      "execution_count": 0,
      "outputs": []
    },
    {
      "cell_type": "markdown",
      "metadata": {
        "_uuid": "1a98e05af67de3475999e1891d965ce9f73ce316",
        "_cell_guid": "7d4db389-9f30-46e9-b8af-69fe9b40ada5",
        "id": "MR0jPJ8NustB",
        "colab_type": "text"
      },
      "source": [
        "#### Cosine Similarity\n",
        "\n",
        "I will be using the Cosine Similarity to calculate a numeric quantity that denotes the similarity between two movies. Mathematically, it is defined as follows:\n",
        "\n",
        "$cosine(x,y) = \\frac{x. y^\\intercal}{||x||.||y||} $\n",
        "\n",
        "Since we have used the TF-IDF Vectorizer, calculating the Dot Product will directly give us the Cosine Similarity Score. Therefore, we will use sklearn's **linear_kernel** instead of cosine_similarities since it is much faster."
      ]
    },
    {
      "cell_type": "code",
      "metadata": {
        "_uuid": "e324c0e951287359f7810a3da85631ebc7725c53",
        "_cell_guid": "8b27b34f-a585-42bf-b35f-1de4e9181fce",
        "id": "zhBIwlj5ustB",
        "colab_type": "code",
        "colab": {}
      },
      "source": [
        "cosine_sim = linear_kernel(tfidf_matrix, tfidf_matrix)"
      ],
      "execution_count": 0,
      "outputs": []
    },
    {
      "cell_type": "code",
      "metadata": {
        "_uuid": "ebb6823a9dce997d965dc89049a06512cbfb17af",
        "_cell_guid": "148a994f-3e7f-4350-9ea3-41eb95f106e8",
        "id": "JkLrdyhlustE",
        "colab_type": "code",
        "colab": {}
      },
      "source": [
        "cosine_sim[0]"
      ],
      "execution_count": 0,
      "outputs": []
    },
    {
      "cell_type": "markdown",
      "metadata": {
        "_uuid": "b7a65051edc24edfe6e2afaf3a9c3a148af5bcaf",
        "_cell_guid": "f4001114-a1c6-4762-b0cf-64eb4f2658ac",
        "id": "SZGPzNCNustH",
        "colab_type": "text"
      },
      "source": [
        "We now have a pairwise cosine similarity matrix for all the movies in our dataset. The next step is to write a function that returns the 30 most similar movies based on the cosine similarity score."
      ]
    },
    {
      "cell_type": "code",
      "metadata": {
        "_uuid": "ff016d61895e99fe7b0495c51b86917bdbe2712d",
        "_cell_guid": "446d22fd-e7c1-42a6-851b-593f60175ce0",
        "id": "Oqg5SPYyustH",
        "colab_type": "code",
        "colab": {}
      },
      "source": [
        "smd = smd.reset_index()\n",
        "titles = smd['title']\n",
        "indices = pd.Series(smd.index, index=smd['title'])"
      ],
      "execution_count": 0,
      "outputs": []
    },
    {
      "cell_type": "code",
      "metadata": {
        "_uuid": "62f49212a8b935ef63a3643e1bb6f629521f05b7",
        "_cell_guid": "d7352ae7-fbc3-4459-b257-76a44000ce6a",
        "id": "6VQjLO7xustK",
        "colab_type": "code",
        "colab": {}
      },
      "source": [
        "def get_recommendations(title):\n",
        "    idx = indices[title]\n",
        "    sim_scores = list(enumerate(cosine_sim[idx]))\n",
        "    sim_scores = sorted(sim_scores, key=lambda x: x[1], reverse=True)\n",
        "    sim_scores = sim_scores[1:31]\n",
        "    movie_indices = [i[0] for i in sim_scores]\n",
        "    return titles.iloc[movie_indices]"
      ],
      "execution_count": 0,
      "outputs": []
    },
    {
      "cell_type": "markdown",
      "metadata": {
        "_uuid": "8960b80c95e09e6b4e328872efebd2e4ee711df2",
        "_cell_guid": "e8c1e16a-a1ab-4cae-916b-dcdc2ebaf9a9",
        "id": "UqLSWEM9ustM",
        "colab_type": "text"
      },
      "source": [
        "We're all set. Let us now try and get the top recommendations for a few movies and see how good the recommendations are."
      ]
    },
    {
      "cell_type": "code",
      "metadata": {
        "_uuid": "46f418fd12b35e86a7a2026ef1975be822cadde3",
        "_cell_guid": "73bb1266-5797-47ce-b61f-fa9e0d7ce077",
        "id": "UFl6zS5TustM",
        "colab_type": "code",
        "colab": {
          "base_uri": "https://localhost:8080/",
          "height": 212
        },
        "outputId": "f7075522-a790-471c-eab7-c1c89d662a14"
      },
      "source": [
        "get_recommendations('The Godfather').head(10)"
      ],
      "execution_count": 37,
      "outputs": [
        {
          "output_type": "execute_result",
          "data": {
            "text/plain": [
              "994            The Godfather: Part II\n",
              "3616    Tucker: The Man and His Dream\n",
              "1346                    The Rainmaker\n",
              "3705                  The Cotton Club\n",
              "3300                 Gardens of Stone\n",
              "1602          The Godfather: Part III\n",
              "4518               One from the Heart\n",
              "2998                 The Conversation\n",
              "5867                      Rumble Fish\n",
              "1691                    The Outsiders\n",
              "Name: title, dtype: object"
            ]
          },
          "metadata": {
            "tags": []
          },
          "execution_count": 37
        }
      ]
    },
    {
      "cell_type": "code",
      "metadata": {
        "_uuid": "f92e310b0225b4a1b8b46e8a87fe2f2b82c158ed",
        "_cell_guid": "d074112e-79ea-4188-a1e0-addd9bed3c91",
        "id": "LsbZAsmwustR",
        "colab_type": "code",
        "colab": {
          "base_uri": "https://localhost:8080/",
          "height": 212
        },
        "outputId": "cf32f214-0c0b-4b11-9174-00b5489620de"
      },
      "source": [
        "get_recommendations('The Dark Knight').head(10)"
      ],
      "execution_count": 38,
      "outputs": [
        {
          "output_type": "execute_result",
          "data": {
            "text/plain": [
              "8031                 The Dark Knight Rises\n",
              "6218                         Batman Begins\n",
              "7659            Batman: Under the Red Hood\n",
              "6623                          The Prestige\n",
              "1134                        Batman Returns\n",
              "8927               Kidnapping Mr. Heineken\n",
              "5943                              Thursday\n",
              "1260                        Batman & Robin\n",
              "2085                             Following\n",
              "9024    Batman v Superman: Dawn of Justice\n",
              "Name: title, dtype: object"
            ]
          },
          "metadata": {
            "tags": []
          },
          "execution_count": 38
        }
      ]
    },
    {
      "cell_type": "markdown",
      "metadata": {
        "_uuid": "f38218c5d4f07d6d9439adbab468c51430157103",
        "_cell_guid": "a9fd334d-e890-4125-9d48-b79babd194d2",
        "id": "UzxxdowOustU",
        "colab_type": "text"
      },
      "source": [
        "We see that for **The Dark Knight**, our system is able to identify it as a Batman film and subsequently recommend other Batman films as its top recommendations. But unfortunately, that is all this system can do at the moment. This is not of much use to most people as it doesn't take into considerations very important features such as cast, crew, director and genre, which determine the rating and the popularity of a movie. Someone who liked **The Dark Knight** probably likes it more because of Nolan and would hate **Batman Forever** and every other substandard movie in the Batman Franchise.\n",
        "\n",
        "Therefore, we are going to use much more suggestive metadata than **Overview** and **Tagline**. In the next subsection, we will build a more sophisticated recommender that takes **genre**, **keywords**, **cast** and **crew** into consideration."
      ]
    },
    {
      "cell_type": "markdown",
      "metadata": {
        "_uuid": "4089c7bcdf984e596e80d2fc6c2a74fe8c05a41f",
        "_cell_guid": "3a0dd8ba-a580-4c12-95eb-ca04e2191b35",
        "id": "-fKaq4liustU",
        "colab_type": "text"
      },
      "source": [
        "### Metadata Based Recommender\n",
        "\n",
        "To build our standard metadata based content recommender, we will need to merge our current dataset with the crew and the keyword datasets. Let us prepare this data as our first step."
      ]
    },
    {
      "cell_type": "code",
      "metadata": {
        "_uuid": "aa399813ff512b0d7671e9bfcebf7f41ee139275",
        "_cell_guid": "85d2d5e0-165a-4ad5-860d-be1d1aa20c59",
        "id": "csNX9eWQustV",
        "colab_type": "code",
        "colab": {}
      },
      "source": [
        "credits = pd.read_csv('./credits.csv')\n",
        "keywords = pd.read_csv('./keywords.csv')"
      ],
      "execution_count": 0,
      "outputs": []
    },
    {
      "cell_type": "code",
      "metadata": {
        "_uuid": "e82eb38c3ae53d500ad335943b4bd30a19f22d1a",
        "_cell_guid": "5dc74705-17ee-41b8-932b-dc612c9426c5",
        "id": "XjobmJhyustX",
        "colab_type": "code",
        "colab": {}
      },
      "source": [
        "keywords['id'] = keywords['id'].astype('int')\n",
        "credits['id'] = credits['id'].astype('int')\n",
        "md['id'] = md['id'].astype('int')"
      ],
      "execution_count": 0,
      "outputs": []
    },
    {
      "cell_type": "code",
      "metadata": {
        "_uuid": "2f9fc363f77649b3ee41132e0b45f366726a25cb",
        "_cell_guid": "a120fca0-7236-4b97-97f8-970363ed02ed",
        "id": "a2skC7xxustZ",
        "colab_type": "code",
        "colab": {}
      },
      "source": [
        "md.shape"
      ],
      "execution_count": 0,
      "outputs": []
    },
    {
      "cell_type": "code",
      "metadata": {
        "_uuid": "4b1ebc18f31eb017c6f4f173ab270807c73c002a",
        "_cell_guid": "39fbbbcd-a0d9-4ad3-9187-e6e2bdb4358e",
        "id": "vzPzViuLustc",
        "colab_type": "code",
        "colab": {}
      },
      "source": [
        "md = md.merge(credits, on='id')\n",
        "md = md.merge(keywords, on='id')"
      ],
      "execution_count": 0,
      "outputs": []
    },
    {
      "cell_type": "code",
      "metadata": {
        "_uuid": "a017f13dce80c88ce2f9fc0d63c374c93e827baa",
        "_cell_guid": "ecdbd741-d8b1-4083-ba26-6c347915f16d",
        "id": "-44_KNNWuste",
        "colab_type": "code",
        "colab": {
          "base_uri": "https://localhost:8080/",
          "height": 35
        },
        "outputId": "ac055205-de48-4b31-d2ad-1463675bf083"
      },
      "source": [
        "smd = md[md['id'].isin(links_small)]\n",
        "smd.shape"
      ],
      "execution_count": 17,
      "outputs": [
        {
          "output_type": "execute_result",
          "data": {
            "text/plain": [
              "(9219, 27)"
            ]
          },
          "metadata": {
            "tags": []
          },
          "execution_count": 17
        }
      ]
    },
    {
      "cell_type": "markdown",
      "metadata": {
        "_uuid": "8e2c893fd842164c99b1be3f84f11fac3adab387",
        "_cell_guid": "5932e964-9f33-4cac-b90c-d6a116c8c463",
        "id": "CdGN5BaEusth",
        "colab_type": "text"
      },
      "source": [
        "We now have our cast, crew, genres and credits, all in one dataframe. Let us wrangle this a little more using the following intuitions:\n",
        "\n",
        "1. **Crew:** From the crew, we will only pick the director as our feature since the others don't contribute that much to the *feel* of the movie.\n",
        "2. **Cast:** Choosing Cast is a little more tricky. Lesser known actors and minor roles do not really affect people's opinion of a movie. Therefore, we must only select the major characters and their respective actors. Arbitrarily we will choose the top 3 actors that appear in the credits list. "
      ]
    },
    {
      "cell_type": "code",
      "metadata": {
        "_uuid": "7ff7d25e2c175f2d71e02cf408ed113e10a148f1",
        "_cell_guid": "6c221b12-c5fd-4eb6-b61a-b7d3f395d2ab",
        "id": "1C_i2phrusth",
        "colab_type": "code",
        "colab": {}
      },
      "source": [
        "smd['cast'] = smd['cast'].apply(literal_eval)\n",
        "smd['crew'] = smd['crew'].apply(literal_eval)\n",
        "smd['keywords'] = smd['keywords'].apply(literal_eval)\n",
        "smd['cast_size'] = smd['cast'].apply(lambda x: len(x))\n",
        "smd['crew_size'] = smd['crew'].apply(lambda x: len(x))"
      ],
      "execution_count": 0,
      "outputs": []
    },
    {
      "cell_type": "code",
      "metadata": {
        "_uuid": "4207baed79a12ab3314fc816076bbff032d3e186",
        "_cell_guid": "0e19fe24-e206-4743-a96c-fb828707c74d",
        "id": "Y2zAx8BIustk",
        "colab_type": "code",
        "colab": {}
      },
      "source": [
        "def get_director(x):\n",
        "    for i in x:\n",
        "        if i['job'] == 'Director':\n",
        "            return i['name']\n",
        "    return np.nan"
      ],
      "execution_count": 0,
      "outputs": []
    },
    {
      "cell_type": "code",
      "metadata": {
        "_uuid": "64c84be00eb7eb7c0b9c4d9a1605e247c11ce2c6",
        "_cell_guid": "d4468b32-a67e-4e31-bd56-1f4467884d1d",
        "id": "BlkjJ7-Lustn",
        "colab_type": "code",
        "colab": {}
      },
      "source": [
        "smd['director'] = smd['crew'].apply(get_director)"
      ],
      "execution_count": 0,
      "outputs": []
    },
    {
      "cell_type": "code",
      "metadata": {
        "_uuid": "fd58e3dc015c81678ca1181a8de9c6e967ffdb22",
        "_cell_guid": "cc3ff524-20c5-478c-b45e-9875c473e48b",
        "id": "KGuhXYZmustp",
        "colab_type": "code",
        "colab": {}
      },
      "source": [
        "smd['cast'] = smd['cast'].apply(lambda x: [i['name'] for i in x] if isinstance(x, list) else [])\n",
        "smd['cast'] = smd['cast'].apply(lambda x: x[:3] if len(x) >=3 else x)"
      ],
      "execution_count": 0,
      "outputs": []
    },
    {
      "cell_type": "code",
      "metadata": {
        "_uuid": "16c1509135d80d41051b8fb46ded3a6aad67e8f0",
        "_cell_guid": "2768dfe6-303a-4f88-81be-39b91c675202",
        "id": "oETRPP5nustr",
        "colab_type": "code",
        "colab": {}
      },
      "source": [
        "smd['keywords'] = smd['keywords'].apply(lambda x: [i['name'] for i in x] if isinstance(x, list) else [])"
      ],
      "execution_count": 0,
      "outputs": []
    },
    {
      "cell_type": "markdown",
      "metadata": {
        "_uuid": "ac9eb7bb4b74983b9c649013b7cdc6ebbb78af23",
        "_cell_guid": "9f2cbd6e-3729-4316-bb4a-1bcd092f19ff",
        "id": "omafmDQdustv",
        "colab_type": "text"
      },
      "source": [
        "My approach to building the recommender is going to be extremely *hacky*. What I plan on doing is creating a metadata dump for every movie which consists of **genres, director, main actors and keywords.** I then use a **Count Vectorizer** to create our count matrix as we did in the Description Recommender. The remaining steps are similar to what we did earlier: we calculate the cosine similarities and return movies that are most similar.\n",
        "\n",
        "These are steps I follow in the preparation of my genres and credits data:\n",
        "1. **Strip Spaces and Convert to Lowercase** from all our features. This way, our engine will not confuse between **Johnny Depp** and **Johnny Galecki.** \n",
        "2. **Mention Director 2 times** to give it more weight relative to the entire cast."
      ]
    },
    {
      "cell_type": "code",
      "metadata": {
        "_uuid": "01d86674d50b903fedc79750c4031ca88a739449",
        "_cell_guid": "6c5ffd70-ef6b-4fd0-be3d-b3c6a0d72df0",
        "id": "VivSh124ustw",
        "colab_type": "code",
        "colab": {}
      },
      "source": [
        "smd['cast'] = smd['cast'].apply(lambda x: [str.lower(i.replace(\" \", \"\")) for i in x])"
      ],
      "execution_count": 0,
      "outputs": []
    },
    {
      "cell_type": "code",
      "metadata": {
        "_uuid": "7e16f8b131ff73d33463fd070774a24a5ce474df",
        "_cell_guid": "5c1377ba-aad0-4a3f-8bcb-063c9c93f087",
        "id": "kxCCwsvLusty",
        "colab_type": "code",
        "colab": {}
      },
      "source": [
        "smd['director'] = smd['director'].astype('str').apply(lambda x: str.lower(x.replace(\" \", \"\")))\n",
        "smd['director'] = smd['director'].apply(lambda x: [x,x])"
      ],
      "execution_count": 0,
      "outputs": []
    },
    {
      "cell_type": "markdown",
      "metadata": {
        "_uuid": "feac137ab3987ade6ae3b041c6cbec3bf4364e66",
        "_cell_guid": "5ea1aabb-a885-4dfe-a85e-0e31fd76558f",
        "id": "k8VpRCrzust1",
        "colab_type": "text"
      },
      "source": [
        "#### Keywords\n",
        "\n",
        "We will do a small amount of pre-processing of our keywords before putting them to any use. As a first step, we calculate the frequenct counts of every keyword that appears in the dataset."
      ]
    },
    {
      "cell_type": "code",
      "metadata": {
        "_uuid": "5740d11531f7305f4edf13b0270dc014382a2b5c",
        "_cell_guid": "3dc8f545-4666-4cc0-8473-2870a69e7ff0",
        "id": "XJIZpD_hust1",
        "colab_type": "code",
        "colab": {}
      },
      "source": [
        "s = smd.apply(lambda x: pd.Series(x['keywords']),axis=1).stack().reset_index(level=1, drop=True)\n",
        "s.name = 'keyword'"
      ],
      "execution_count": 0,
      "outputs": []
    },
    {
      "cell_type": "code",
      "metadata": {
        "_uuid": "1374a54bff3f7f0fdc872bfebff9f81d1dfcea69",
        "_cell_guid": "21e684ab-f6d3-4014-a05a-c28f995b4972",
        "id": "ZfLYYOPfust5",
        "colab_type": "code",
        "colab": {
          "base_uri": "https://localhost:8080/",
          "height": 124
        },
        "outputId": "234c16f3-3f0c-41ad-d428-898b4aafef43"
      },
      "source": [
        "s = s.value_counts()\n",
        "s[:5]"
      ],
      "execution_count": 26,
      "outputs": [
        {
          "output_type": "execute_result",
          "data": {
            "text/plain": [
              "independent film        610\n",
              "woman director          550\n",
              "murder                  399\n",
              "duringcreditsstinger    327\n",
              "based on novel          318\n",
              "Name: keyword, dtype: int64"
            ]
          },
          "metadata": {
            "tags": []
          },
          "execution_count": 26
        }
      ]
    },
    {
      "cell_type": "markdown",
      "metadata": {
        "_uuid": "0ac999648a3085a98948ccf9ada187a9bb08eba3",
        "_cell_guid": "4277aa18-dc91-4836-9853-2c94624cc70d",
        "id": "umR1qfHjust9",
        "colab_type": "text"
      },
      "source": [
        "Keywords occur in frequencies ranging from 1 to 610. We do not have any use for keywords that occur only once. Therefore, these can be safely removed. Finally, we will convert every word to its stem so that words such as *Dogs* and *Dog* are considered the same."
      ]
    },
    {
      "cell_type": "code",
      "metadata": {
        "_uuid": "bf05fb571b1ee60335af20acb9cf5d7fee6254e8",
        "_cell_guid": "8cabd79b-dfab-46d8-922d-e204173d8103",
        "id": "Z76CGCKuust9",
        "colab_type": "code",
        "colab": {}
      },
      "source": [
        "s = s[s > 1]"
      ],
      "execution_count": 0,
      "outputs": []
    },
    {
      "cell_type": "code",
      "metadata": {
        "_uuid": "1d2a07e4de352df9d3e2230d36e691d166a1675c",
        "_cell_guid": "2d10427d-9339-46fa-b699-060b27d6d25f",
        "id": "sjf6L63kust_",
        "colab_type": "code",
        "colab": {
          "base_uri": "https://localhost:8080/",
          "height": 35
        },
        "outputId": "7f74d78f-900a-44c7-8043-78d25ccc84a5"
      },
      "source": [
        "stemmer = SnowballStemmer('english')\n",
        "stemmer.stem('dogs')"
      ],
      "execution_count": 28,
      "outputs": [
        {
          "output_type": "execute_result",
          "data": {
            "text/plain": [
              "'dog'"
            ]
          },
          "metadata": {
            "tags": []
          },
          "execution_count": 28
        }
      ]
    },
    {
      "cell_type": "code",
      "metadata": {
        "_uuid": "3bad77061d810e52b0d9fecfd26873c101167d00",
        "_cell_guid": "5379c8d7-42a5-471a-84f8-bbd6cadf2e5c",
        "id": "rbqMvRY8usuB",
        "colab_type": "code",
        "colab": {}
      },
      "source": [
        "def filter_keywords(x):\n",
        "    words = []\n",
        "    for i in x:\n",
        "        if i in s:\n",
        "            words.append(i)\n",
        "    return words"
      ],
      "execution_count": 0,
      "outputs": []
    },
    {
      "cell_type": "code",
      "metadata": {
        "_uuid": "2a939eb8846871c606da0f654a1a9a978270e99f",
        "_cell_guid": "959063e5-841d-408a-a10e-1f1437756b7c",
        "id": "deBOdBPiusuF",
        "colab_type": "code",
        "colab": {}
      },
      "source": [
        "smd['keywords'] = smd['keywords'].apply(filter_keywords)\n",
        "smd['keywords'] = smd['keywords'].apply(lambda x: [stemmer.stem(i) for i in x])\n",
        "smd['keywords'] = smd['keywords'].apply(lambda x: [str.lower(i.replace(\" \", \"\")) for i in x])"
      ],
      "execution_count": 0,
      "outputs": []
    },
    {
      "cell_type": "code",
      "metadata": {
        "_uuid": "6ff4da392e31cf628f91dd244cc4e76d63c40601",
        "_cell_guid": "95c45262-2715-47b7-af65-1eb396c37d33",
        "id": "TZN4yp4fusuI",
        "colab_type": "code",
        "colab": {}
      },
      "source": [
        "smd['soup'] = smd['keywords'] + smd['cast'] + smd['director'] + smd['genres']\n",
        "smd['soup'] = smd['soup'].apply(lambda x: ' '.join(x))"
      ],
      "execution_count": 0,
      "outputs": []
    },
    {
      "cell_type": "code",
      "metadata": {
        "_uuid": "c758030ce02bb4beed606e41a3e0a51b659768f0",
        "_cell_guid": "7f9aa1bc-351b-47a1-b909-0d87efe93adc",
        "id": "Wl3z8YrousuN",
        "colab_type": "code",
        "colab": {}
      },
      "source": [
        "count = CountVectorizer(analyzer='word',ngram_range=(1, 2),min_df=0, stop_words='english')\n",
        "count_matrix = count.fit_transform(smd['soup'])"
      ],
      "execution_count": 0,
      "outputs": []
    },
    {
      "cell_type": "code",
      "metadata": {
        "_uuid": "defccf8a2c851672447b4f53ff1a8efddafccb33",
        "_cell_guid": "c462b8af-1eb8-499e-8e50-839811aebe9d",
        "id": "AzyIfNgwusuR",
        "colab_type": "code",
        "colab": {}
      },
      "source": [
        "cosine_sim = cosine_similarity(count_matrix, count_matrix)"
      ],
      "execution_count": 0,
      "outputs": []
    },
    {
      "cell_type": "code",
      "metadata": {
        "_uuid": "ffa7edd804b3ea3065c6d428fbb613ae7cd203e3",
        "_cell_guid": "d7ee34aa-da42-46bb-93e5-51e893286353",
        "id": "YLYb4koDusuZ",
        "colab_type": "code",
        "colab": {}
      },
      "source": [
        "smd = smd.reset_index()\n",
        "titles = smd['title']\n",
        "indices = pd.Series(smd.index, index=smd['title'])"
      ],
      "execution_count": 0,
      "outputs": []
    },
    {
      "cell_type": "markdown",
      "metadata": {
        "_uuid": "37e2da9e51efab9951e6061f677c5ffcad230782",
        "_cell_guid": "7f7ae1dc-41c0-4cd7-af41-74e6075b0d90",
        "id": "2OV1_POqusud",
        "colab_type": "text"
      },
      "source": [
        "We will reuse the get_recommendations function that we had written earlier. Since our cosine similarity scores have changed, we expect it to give us different (and probably better) results. Let us check for **The Dark Knight** again and see what recommendations I get this time around."
      ]
    },
    {
      "cell_type": "code",
      "metadata": {
        "_uuid": "f6e2b6b232e992c783150a0ac5a7038c6de6db37",
        "_cell_guid": "e755e943-495b-46df-983b-2f8ad80fcd6a",
        "id": "SJnnoGxJusuf",
        "colab_type": "code",
        "colab": {
          "base_uri": "https://localhost:8080/",
          "height": 212
        },
        "outputId": "34b64507-ad8a-43f1-f30d-eab7982c779c"
      },
      "source": [
        "get_recommendations('The Dark Knight').head(10)"
      ],
      "execution_count": 39,
      "outputs": [
        {
          "output_type": "execute_result",
          "data": {
            "text/plain": [
              "8031                 The Dark Knight Rises\n",
              "6218                         Batman Begins\n",
              "7659            Batman: Under the Red Hood\n",
              "6623                          The Prestige\n",
              "1134                        Batman Returns\n",
              "8927               Kidnapping Mr. Heineken\n",
              "5943                              Thursday\n",
              "1260                        Batman & Robin\n",
              "2085                             Following\n",
              "9024    Batman v Superman: Dawn of Justice\n",
              "Name: title, dtype: object"
            ]
          },
          "metadata": {
            "tags": []
          },
          "execution_count": 39
        }
      ]
    },
    {
      "cell_type": "markdown",
      "metadata": {
        "_uuid": "65859bb4471fbd873df938ef77ed667cac10babc",
        "_cell_guid": "96c3a594-19de-4a38-a033-cbdd7d69aa4c",
        "id": "Mjl5asDKusuj",
        "colab_type": "text"
      },
      "source": [
        "I am much more satisfied with the results I get this time around. The recommendations seem to have recognized other Christopher Nolan movies (due to the high weightage given to director) and put them as top recommendations. I enjoyed watching **The Dark Knight** as well as some of the other ones in the list including **Batman Begins**, **The Prestige** and **The Dark Knight Rises**. \n",
        "\n",
        "We can of course experiment on this engine by trying out different weights for our features (directors, actors, genres), limiting the number of keywords that can be used in the soup, weighing genres based on their frequency, only showing movies with the same languages, etc."
      ]
    },
    {
      "cell_type": "markdown",
      "metadata": {
        "id": "EqOSwQLxusuk",
        "colab_type": "text"
      },
      "source": [
        "Let me also get recommendations for another movie, **Mean Girls** which happens to be my girlfriend's favorite movie."
      ]
    },
    {
      "cell_type": "code",
      "metadata": {
        "_uuid": "688b323c3b96224127465e8d48e67688ba4be202",
        "_cell_guid": "ef4d3551-2c66-4732-9be1-10425962d5e9",
        "id": "CeQJv45Ousuk",
        "colab_type": "code",
        "colab": {
          "base_uri": "https://localhost:8080/",
          "height": 212
        },
        "outputId": "4c206dcf-1961-48bc-a6b1-ac6b1f6d7922"
      },
      "source": [
        "get_recommendations('Mean Girls').head(10)"
      ],
      "execution_count": 40,
      "outputs": [
        {
          "output_type": "execute_result",
          "data": {
            "text/plain": [
              "3319               Head Over Heels\n",
              "4763                 Freaky Friday\n",
              "1329              The House of Yes\n",
              "6277              Just Like Heaven\n",
              "7905         Mr. Popper's Penguins\n",
              "7332    Ghosts of Girlfriends Past\n",
              "8883                      The DUFF\n",
              "6698         It's a Boy Girl Thing\n",
              "7377       I Love You, Beth Cooper\n",
              "3712          The Princess Diaries\n",
              "Name: title, dtype: object"
            ]
          },
          "metadata": {
            "tags": []
          },
          "execution_count": 40
        }
      ]
    },
    {
      "cell_type": "code",
      "metadata": {
        "id": "eYa5X9OmzcYz",
        "colab_type": "code",
        "colab": {}
      },
      "source": [
        "def weighted_rating1(x,m,C,max1):\n",
        "    v = x['vote_count']\n",
        "    R = x['vote_average']\n",
        "    p = x['popularity']\n",
        "    return 0.7*(v/(v+m) * R) + (m/(m+v) * C) + 0.3*(p/max1)*10"
      ],
      "execution_count": 0,
      "outputs": []
    },
    {
      "cell_type": "markdown",
      "metadata": {
        "_uuid": "536a4e8632d62d2b6a0c0d5e8b5731c39eb5529b",
        "_cell_guid": "77c9d0d7-684c-41ab-b806-b38264b2cf3f",
        "id": "ij-9L7wNusup",
        "colab_type": "text"
      },
      "source": [
        "#### Popularity and Ratings\n",
        "\n",
        "One thing that we notice about our recommendation system is that it recommends movies regardless of ratings and popularity. It is true that **Batman and Robin** has a lot of similar characters as compared to **The Dark Knight** but it was a terrible movie that shouldn't be recommended to anyone.\n",
        "\n",
        "Therefore, we will add a mechanism to remove bad movies and return movies which are popular and have had a good critical response.\n",
        "\n",
        "I will take the top 25 movies based on similarity scores and calculate the vote of the 60th percentile movie. Then, using this as the value of $m$, we will calculate the weighted rating of each movie using IMDB's formula like we did in the Simple Recommender section."
      ]
    },
    {
      "cell_type": "code",
      "metadata": {
        "_uuid": "0a7cc50433dcd13586dc1ee825b0880ad0c83869",
        "_cell_guid": "1b5f0675-caa1-41bf-8a9a-ba89b0e07872",
        "id": "iFGWIgi3usup",
        "colab_type": "code",
        "colab": {}
      },
      "source": [
        "def improved_recommendations(title):\n",
        "    idx = indices[title]\n",
        "    sim_scores = list(enumerate(cosine_sim[idx]))\n",
        "    sim_scores = sorted(sim_scores, key=lambda x: x[1], reverse=True)\n",
        "    sim_scores = sim_scores[1:26]\n",
        "    movie_indices = [i[0] for i in sim_scores]\n",
        "    \n",
        "    movies = smd.iloc[movie_indices][['title', 'vote_count', 'vote_average','popularity']]\n",
        "    vote_counts = movies[movies['vote_count'].notnull()]['vote_count'].astype('int')\n",
        "    vote_averages = movies[movies['vote_average'].notnull()]['vote_average'].astype('float')\n",
        "    popularity= movies[movies['popularity'].notnull()]['popularity'].astype('float')\n",
        "    C = vote_averages.mean()\n",
        "    m = vote_counts.quantile(0.60)\n",
        "    max1=popularity.max()\n",
        "    qualified = movies[(movies['vote_count'] >= m) & (movies['vote_count'].notnull()) & (movies['vote_average'].notnull())]\n",
        "    qualified['vote_count'] = qualified['vote_count'].astype('int')\n",
        "    qualified['vote_average'] = qualified['vote_average'].astype('int')\n",
        "    qualified['wr'] = qualified.apply(weighted_rating,args=(m,C,), axis=1)\n",
        "    qualified['wr_final'] = qualified.apply(weighted_rating1,args=(m,C,max1,), axis=1)\n",
        "    qualified = qualified.sort_values('wr', ascending=False).head(10)\n",
        "    return qualified"
      ],
      "execution_count": 0,
      "outputs": []
    },
    {
      "cell_type": "code",
      "metadata": {
        "_uuid": "c36a9662253e9a6bb1ae008e6cabd8dee7aaaa73",
        "_cell_guid": "7f4ce0f9-ebc0-464d-a3d4-084f156d02b4",
        "id": "vPtU8h9Nusus",
        "colab_type": "code",
        "colab": {
          "base_uri": "https://localhost:8080/",
          "height": 352
        },
        "outputId": "e3e14f55-bb1e-4096-9807-dcded7fdef63"
      },
      "source": [
        "improved_recommendations('The Dark Knight')"
      ],
      "execution_count": 57,
      "outputs": [
        {
          "output_type": "execute_result",
          "data": {
            "text/html": [
              "<div>\n",
              "<style scoped>\n",
              "    .dataframe tbody tr th:only-of-type {\n",
              "        vertical-align: middle;\n",
              "    }\n",
              "\n",
              "    .dataframe tbody tr th {\n",
              "        vertical-align: top;\n",
              "    }\n",
              "\n",
              "    .dataframe thead th {\n",
              "        text-align: right;\n",
              "    }\n",
              "</style>\n",
              "<table border=\"1\" class=\"dataframe\">\n",
              "  <thead>\n",
              "    <tr style=\"text-align: right;\">\n",
              "      <th></th>\n",
              "      <th>title</th>\n",
              "      <th>vote_count</th>\n",
              "      <th>vote_average</th>\n",
              "      <th>popularity</th>\n",
              "      <th>wr</th>\n",
              "      <th>wr_final</th>\n",
              "    </tr>\n",
              "  </thead>\n",
              "  <tbody>\n",
              "    <tr>\n",
              "      <th>6623</th>\n",
              "      <td>The Prestige</td>\n",
              "      <td>4510</td>\n",
              "      <td>8</td>\n",
              "      <td>16.9456</td>\n",
              "      <td>7.920825</td>\n",
              "      <td>7.268131</td>\n",
              "    </tr>\n",
              "    <tr>\n",
              "      <th>8031</th>\n",
              "      <td>The Dark Knight Rises</td>\n",
              "      <td>9263</td>\n",
              "      <td>7</td>\n",
              "      <td>20.5826</td>\n",
              "      <td>6.987507</td>\n",
              "      <td>6.908785</td>\n",
              "    </tr>\n",
              "    <tr>\n",
              "      <th>6218</th>\n",
              "      <td>Batman Begins</td>\n",
              "      <td>7511</td>\n",
              "      <td>7</td>\n",
              "      <td>28.5053</td>\n",
              "      <td>6.984690</td>\n",
              "      <td>7.674917</td>\n",
              "    </tr>\n",
              "    <tr>\n",
              "      <th>7659</th>\n",
              "      <td>Batman: Under the Red Hood</td>\n",
              "      <td>459</td>\n",
              "      <td>7</td>\n",
              "      <td>7.03932</td>\n",
              "      <td>6.834231</td>\n",
              "      <td>6.162783</td>\n",
              "    </tr>\n",
              "    <tr>\n",
              "      <th>2085</th>\n",
              "      <td>Following</td>\n",
              "      <td>363</td>\n",
              "      <td>7</td>\n",
              "      <td>5.28366</td>\n",
              "      <td>6.808629</td>\n",
              "      <td>6.086510</td>\n",
              "    </tr>\n",
              "    <tr>\n",
              "      <th>7561</th>\n",
              "      <td>Harry Brown</td>\n",
              "      <td>351</td>\n",
              "      <td>6</td>\n",
              "      <td>7.47821</td>\n",
              "      <td>6.229075</td>\n",
              "      <td>5.906320</td>\n",
              "    </tr>\n",
              "    <tr>\n",
              "      <th>1134</th>\n",
              "      <td>Batman Returns</td>\n",
              "      <td>1706</td>\n",
              "      <td>6</td>\n",
              "      <td>15.0017</td>\n",
              "      <td>6.071080</td>\n",
              "      <td>5.939660</td>\n",
              "    </tr>\n",
              "    <tr>\n",
              "      <th>8026</th>\n",
              "      <td>Bullet to the Head</td>\n",
              "      <td>490</td>\n",
              "      <td>5</td>\n",
              "      <td>8.26008</td>\n",
              "      <td>5.531985</td>\n",
              "      <td>5.338431</td>\n",
              "    </tr>\n",
              "    <tr>\n",
              "      <th>9024</th>\n",
              "      <td>Batman v Superman: Dawn of Justice</td>\n",
              "      <td>7189</td>\n",
              "      <td>5</td>\n",
              "      <td>31.4359</td>\n",
              "      <td>5.053473</td>\n",
              "      <td>6.605557</td>\n",
              "    </tr>\n",
              "    <tr>\n",
              "      <th>1260</th>\n",
              "      <td>Batman &amp; Robin</td>\n",
              "      <td>1447</td>\n",
              "      <td>4</td>\n",
              "      <td>17.0388</td>\n",
              "      <td>4.385110</td>\n",
              "      <td>4.993107</td>\n",
              "    </tr>\n",
              "  </tbody>\n",
              "</table>\n",
              "</div>"
            ],
            "text/plain": [
              "                                   title  vote_count  ...        wr  wr_final\n",
              "6623                        The Prestige        4510  ...  7.920825  7.268131\n",
              "8031               The Dark Knight Rises        9263  ...  6.987507  6.908785\n",
              "6218                       Batman Begins        7511  ...  6.984690  7.674917\n",
              "7659          Batman: Under the Red Hood         459  ...  6.834231  6.162783\n",
              "2085                           Following         363  ...  6.808629  6.086510\n",
              "7561                         Harry Brown         351  ...  6.229075  5.906320\n",
              "1134                      Batman Returns        1706  ...  6.071080  5.939660\n",
              "8026                  Bullet to the Head         490  ...  5.531985  5.338431\n",
              "9024  Batman v Superman: Dawn of Justice        7189  ...  5.053473  6.605557\n",
              "1260                      Batman & Robin        1447  ...  4.385110  4.993107\n",
              "\n",
              "[10 rows x 6 columns]"
            ]
          },
          "metadata": {
            "tags": []
          },
          "execution_count": 57
        }
      ]
    },
    {
      "cell_type": "markdown",
      "metadata": {
        "id": "V95BPeYjusuv",
        "colab_type": "text"
      },
      "source": [
        "Let me also get the recommendations for **Mean Girls**, my girlfriend's favorite movie."
      ]
    },
    {
      "cell_type": "code",
      "metadata": {
        "_uuid": "a04523fa7c17a9ae25d5fcade4c817d35e8b6f19",
        "_cell_guid": "69a93363-d82c-47e3-94fc-d59a219a4f3a",
        "id": "CpgBDm52usuw",
        "colab_type": "code",
        "colab": {
          "base_uri": "https://localhost:8080/",
          "height": 352
        },
        "outputId": "be662471-4199-4c83-8f2b-d8f4335f5f95"
      },
      "source": [
        "improved_recommendations('Mean Girls')"
      ],
      "execution_count": 58,
      "outputs": [
        {
          "output_type": "execute_result",
          "data": {
            "text/html": [
              "<div>\n",
              "<style scoped>\n",
              "    .dataframe tbody tr th:only-of-type {\n",
              "        vertical-align: middle;\n",
              "    }\n",
              "\n",
              "    .dataframe tbody tr th {\n",
              "        vertical-align: top;\n",
              "    }\n",
              "\n",
              "    .dataframe thead th {\n",
              "        text-align: right;\n",
              "    }\n",
              "</style>\n",
              "<table border=\"1\" class=\"dataframe\">\n",
              "  <thead>\n",
              "    <tr style=\"text-align: right;\">\n",
              "      <th></th>\n",
              "      <th>title</th>\n",
              "      <th>vote_count</th>\n",
              "      <th>vote_average</th>\n",
              "      <th>popularity</th>\n",
              "      <th>wr</th>\n",
              "      <th>wr_final</th>\n",
              "    </tr>\n",
              "  </thead>\n",
              "  <tbody>\n",
              "    <tr>\n",
              "      <th>1547</th>\n",
              "      <td>The Breakfast Club</td>\n",
              "      <td>2189</td>\n",
              "      <td>7</td>\n",
              "      <td>12.6277</td>\n",
              "      <td>6.825433</td>\n",
              "      <td>7.557357</td>\n",
              "    </tr>\n",
              "    <tr>\n",
              "      <th>8420</th>\n",
              "      <td>The Kings of Summer</td>\n",
              "      <td>427</td>\n",
              "      <td>7</td>\n",
              "      <td>6.25805</td>\n",
              "      <td>6.464754</td>\n",
              "      <td>6.647254</td>\n",
              "    </tr>\n",
              "    <tr>\n",
              "      <th>8883</th>\n",
              "      <td>The DUFF</td>\n",
              "      <td>1372</td>\n",
              "      <td>6</td>\n",
              "      <td>8.59245</td>\n",
              "      <td>5.982947</td>\n",
              "      <td>6.303548</td>\n",
              "    </tr>\n",
              "    <tr>\n",
              "      <th>3712</th>\n",
              "      <td>The Princess Diaries</td>\n",
              "      <td>1063</td>\n",
              "      <td>6</td>\n",
              "      <td>7.38717</td>\n",
              "      <td>5.979408</td>\n",
              "      <td>6.150832</td>\n",
              "    </tr>\n",
              "    <tr>\n",
              "      <th>4763</th>\n",
              "      <td>Freaky Friday</td>\n",
              "      <td>919</td>\n",
              "      <td>6</td>\n",
              "      <td>7.868</td>\n",
              "      <td>5.977203</td>\n",
              "      <td>6.298562</td>\n",
              "    </tr>\n",
              "    <tr>\n",
              "      <th>6277</th>\n",
              "      <td>Just Like Heaven</td>\n",
              "      <td>595</td>\n",
              "      <td>6</td>\n",
              "      <td>8.35177</td>\n",
              "      <td>5.969967</td>\n",
              "      <td>6.567612</td>\n",
              "    </tr>\n",
              "    <tr>\n",
              "      <th>6959</th>\n",
              "      <td>The Spiderwick Chronicles</td>\n",
              "      <td>593</td>\n",
              "      <td>6</td>\n",
              "      <td>11.1338</td>\n",
              "      <td>5.969908</td>\n",
              "      <td>7.117591</td>\n",
              "    </tr>\n",
              "    <tr>\n",
              "      <th>7494</th>\n",
              "      <td>American Pie Presents: The Book of Love</td>\n",
              "      <td>454</td>\n",
              "      <td>5</td>\n",
              "      <td>7.43211</td>\n",
              "      <td>5.449128</td>\n",
              "      <td>6.140570</td>\n",
              "    </tr>\n",
              "    <tr>\n",
              "      <th>7332</th>\n",
              "      <td>Ghosts of Girlfriends Past</td>\n",
              "      <td>716</td>\n",
              "      <td>5</td>\n",
              "      <td>8.40149</td>\n",
              "      <td>5.346070</td>\n",
              "      <td>6.062076</td>\n",
              "    </tr>\n",
              "    <tr>\n",
              "      <th>7905</th>\n",
              "      <td>Mr. Popper's Penguins</td>\n",
              "      <td>775</td>\n",
              "      <td>5</td>\n",
              "      <td>15.2143</td>\n",
              "      <td>5.329066</td>\n",
              "      <td>7.360961</td>\n",
              "    </tr>\n",
              "  </tbody>\n",
              "</table>\n",
              "</div>"
            ],
            "text/plain": [
              "                                        title  vote_count  ...        wr  wr_final\n",
              "1547                       The Breakfast Club        2189  ...  6.825433  7.557357\n",
              "8420                      The Kings of Summer         427  ...  6.464754  6.647254\n",
              "8883                                 The DUFF        1372  ...  5.982947  6.303548\n",
              "3712                     The Princess Diaries        1063  ...  5.979408  6.150832\n",
              "4763                            Freaky Friday         919  ...  5.977203  6.298562\n",
              "6277                         Just Like Heaven         595  ...  5.969967  6.567612\n",
              "6959                The Spiderwick Chronicles         593  ...  5.969908  7.117591\n",
              "7494  American Pie Presents: The Book of Love         454  ...  5.449128  6.140570\n",
              "7332               Ghosts of Girlfriends Past         716  ...  5.346070  6.062076\n",
              "7905                    Mr. Popper's Penguins         775  ...  5.329066  7.360961\n",
              "\n",
              "[10 rows x 6 columns]"
            ]
          },
          "metadata": {
            "tags": []
          },
          "execution_count": 58
        }
      ]
    },
    {
      "cell_type": "markdown",
      "metadata": {
        "_uuid": "f8561762c1e258f52ab2c662f1eb3d5f695316b2",
        "_cell_guid": "c43b2445-0b09-4eaf-8a93-6c5037fae0ad",
        "id": "ZmI0Jdsxusuz",
        "colab_type": "text"
      },
      "source": [
        "Unfortunately, **Batman and Robin** does not disappear from our recommendation list. This is probably due to the fact that it is rated a 4, which is only slightly below average on TMDB. It certainly doesn't deserve a 4 when amazing movies like **The Dark Knight Rises** has only a 7. However, there is nothing much we can do about this. Therefore, we will conclude our Content Based Recommender section here and come back to it when we build a hybrid engine."
      ]
    },
    {
      "cell_type": "markdown",
      "metadata": {
        "_uuid": "ddc06567eb0fe770c7f3b77f3cb7b777a6923f5c",
        "_cell_guid": "a9a16fac-217d-4b36-b280-ca250ee921fe",
        "id": "c68wTryIusuz",
        "colab_type": "text"
      },
      "source": [
        "## Collaborative Filtering\n",
        "\n",
        "Our content based engine suffers from some severe limitations. It is only capable of suggesting movies which are *close* to a certain movie. That is, it is not capable of capturing tastes and providing recommendations across genres.\n",
        "\n",
        "Also, the engine that we built is not really personal in that it doesn't capture the personal tastes and biases of a user. Anyone querying our engine for recommendations based on a movie will receive the same recommendations for that movie, regardless of who s/he is.\n",
        "\n",
        "Therefore, in this section, we will use a technique called **Collaborative Filtering** to make recommendations to Movie Watchers. Collaborative Filtering is based on the idea that users similar to a me can be used to predict how much I will like a particular product or service those users have used/experienced but I have not.\n",
        "\n",
        "I will not be implementing Collaborative Filtering from scratch. Instead, I will use the **Surprise** library that used extremely powerful algorithms like **Singular Value Decomposition (SVD)** to minimise RMSE (Root Mean Square Error) and give great recommendations."
      ]
    },
    {
      "cell_type": "code",
      "metadata": {
        "_uuid": "de715e5b70a605e3bd65ad50bbfa9b71aac1aef4",
        "_cell_guid": "632e75c9-0068-456a-82d5-8a8eb44e98df",
        "id": "zgccdjMLusu0",
        "colab_type": "code",
        "colab": {}
      },
      "source": [
        "reader = Reader()"
      ],
      "execution_count": 0,
      "outputs": []
    },
    {
      "cell_type": "code",
      "metadata": {
        "_uuid": "18c484e823d3c4c1bbb91a5aa708e277c97cdaf1",
        "_cell_guid": "7b7a10d4-4f72-4c07-a514-ae5c2f0663a9",
        "id": "OPRaIDIzusu1",
        "colab_type": "code",
        "colab": {
          "base_uri": "https://localhost:8080/",
          "height": 200
        },
        "outputId": "fe636e2d-dfb9-4cc0-b027-c321b961ace3"
      },
      "source": [
        "ratings = pd.read_csv('./ratings_small.csv')\n",
        "ratings.head()"
      ],
      "execution_count": 60,
      "outputs": [
        {
          "output_type": "execute_result",
          "data": {
            "text/html": [
              "<div>\n",
              "<style scoped>\n",
              "    .dataframe tbody tr th:only-of-type {\n",
              "        vertical-align: middle;\n",
              "    }\n",
              "\n",
              "    .dataframe tbody tr th {\n",
              "        vertical-align: top;\n",
              "    }\n",
              "\n",
              "    .dataframe thead th {\n",
              "        text-align: right;\n",
              "    }\n",
              "</style>\n",
              "<table border=\"1\" class=\"dataframe\">\n",
              "  <thead>\n",
              "    <tr style=\"text-align: right;\">\n",
              "      <th></th>\n",
              "      <th>userId</th>\n",
              "      <th>movieId</th>\n",
              "      <th>rating</th>\n",
              "      <th>timestamp</th>\n",
              "    </tr>\n",
              "  </thead>\n",
              "  <tbody>\n",
              "    <tr>\n",
              "      <th>0</th>\n",
              "      <td>1</td>\n",
              "      <td>31</td>\n",
              "      <td>2.5</td>\n",
              "      <td>1260759144</td>\n",
              "    </tr>\n",
              "    <tr>\n",
              "      <th>1</th>\n",
              "      <td>1</td>\n",
              "      <td>1029</td>\n",
              "      <td>3.0</td>\n",
              "      <td>1260759179</td>\n",
              "    </tr>\n",
              "    <tr>\n",
              "      <th>2</th>\n",
              "      <td>1</td>\n",
              "      <td>1061</td>\n",
              "      <td>3.0</td>\n",
              "      <td>1260759182</td>\n",
              "    </tr>\n",
              "    <tr>\n",
              "      <th>3</th>\n",
              "      <td>1</td>\n",
              "      <td>1129</td>\n",
              "      <td>2.0</td>\n",
              "      <td>1260759185</td>\n",
              "    </tr>\n",
              "    <tr>\n",
              "      <th>4</th>\n",
              "      <td>1</td>\n",
              "      <td>1172</td>\n",
              "      <td>4.0</td>\n",
              "      <td>1260759205</td>\n",
              "    </tr>\n",
              "  </tbody>\n",
              "</table>\n",
              "</div>"
            ],
            "text/plain": [
              "   userId  movieId  rating   timestamp\n",
              "0       1       31     2.5  1260759144\n",
              "1       1     1029     3.0  1260759179\n",
              "2       1     1061     3.0  1260759182\n",
              "3       1     1129     2.0  1260759185\n",
              "4       1     1172     4.0  1260759205"
            ]
          },
          "metadata": {
            "tags": []
          },
          "execution_count": 60
        }
      ]
    },
    {
      "cell_type": "code",
      "metadata": {
        "_uuid": "daa1711d353573b2dcf5145f1882397a2adcab27",
        "_cell_guid": "f2f755fd-c3ef-4095-add8-f88350cf1b36",
        "id": "Q1uyP3lCusu3",
        "colab_type": "code",
        "colab": {}
      },
      "source": [
        "from surprise.model_selection import train_test_split,cross_validate,KFold\n",
        "from surprise import Dataset,accuracy\n",
        "\n",
        "data = Dataset.load_from_df(ratings[['userId', 'movieId', 'rating']], reader)\n",
        "\n",
        "svd = SVD()\n",
        "cross_validate(svd, data, verbose=True)"
      ],
      "execution_count": 0,
      "outputs": []
    },
    {
      "cell_type": "code",
      "metadata": {
        "_uuid": "edc105b14d9331d3adb44155c881670c5afacc41",
        "_cell_guid": "41ca3304-0fa5-401d-8c20-48b5c7cfb0d4",
        "id": "qrRDciN9usu4",
        "colab_type": "code",
        "colab": {
          "base_uri": "https://localhost:8080/",
          "height": 106
        },
        "outputId": "04901258-5baa-4198-bbde-f38faf742cd3"
      },
      "source": [
        "kf = KFold(n_splits=5)\n",
        "\n",
        "for trainset, testset in kf.split(data):\n",
        "    # train and test algorithm.\n",
        "    svd.fit(trainset)\n",
        "    predictions = svd.test(testset)\n",
        "\n",
        "    # Compute and print Root Mean Squared Error\n",
        "    accuracy.rmse(predictions, verbose=True)"
      ],
      "execution_count": 78,
      "outputs": [
        {
          "output_type": "stream",
          "text": [
            "RMSE: 0.8961\n",
            "RMSE: 0.9087\n",
            "RMSE: 0.8991\n",
            "RMSE: 0.8934\n",
            "RMSE: 0.8892\n"
          ],
          "name": "stdout"
        }
      ]
    },
    {
      "cell_type": "markdown",
      "metadata": {
        "_uuid": "6f3d3cd411dc437a28ddbd184e77d9229bf224a2",
        "_cell_guid": "0ac7021a-9174-48bd-a1ca-5ab227409963",
        "id": "wKOZLTeSusu6",
        "colab_type": "text"
      },
      "source": [
        "We get a mean **Root Mean Sqaure Error** of 0.8963 which is more than good enough for our case. Let us now train on our dataset and arrive at predictions."
      ]
    },
    {
      "cell_type": "code",
      "metadata": {
        "_uuid": "b588afd2750b0ba0793b953edac8c366222f8500",
        "_cell_guid": "b39199fa-a02c-4509-852d-85020b36424d",
        "id": "xGSmRBRwusu6",
        "colab_type": "code",
        "colab": {
          "base_uri": "https://localhost:8080/",
          "height": 35
        },
        "outputId": "e02bc773-30f5-4093-da50-9a3bcbc1b3fd"
      },
      "source": [
        "trainset = data.build_full_trainset()\n",
        "svd.fit(trainset)"
      ],
      "execution_count": 81,
      "outputs": [
        {
          "output_type": "execute_result",
          "data": {
            "text/plain": [
              "<surprise.prediction_algorithms.matrix_factorization.SVD at 0x7f00c061f898>"
            ]
          },
          "metadata": {
            "tags": []
          },
          "execution_count": 81
        }
      ]
    },
    {
      "cell_type": "markdown",
      "metadata": {
        "_uuid": "f9fc5344c7545c16539aa0966f62b59be1761f34",
        "_cell_guid": "9d6653dc-7ad4-4c78-9c50-bbfe988b4397",
        "id": "1cAIxLXQusu8",
        "colab_type": "text"
      },
      "source": [
        "Let us pick user 5000 and check the ratings s/he has given."
      ]
    },
    {
      "cell_type": "code",
      "metadata": {
        "_uuid": "2307233c3213417079c46fcfaaf2638ef1f0059f",
        "_cell_guid": "b57dd617-c9aa-4928-a7de-c6b7036cc07b",
        "id": "OXX2zF2Nusu8",
        "colab_type": "code",
        "colab": {
          "base_uri": "https://localhost:8080/",
          "height": 655
        },
        "outputId": "931f4045-c1fd-48c1-c3bb-5cb211c59105"
      },
      "source": [
        "ratings[ratings['userId'] == 1]"
      ],
      "execution_count": 82,
      "outputs": [
        {
          "output_type": "execute_result",
          "data": {
            "text/html": [
              "<div>\n",
              "<style scoped>\n",
              "    .dataframe tbody tr th:only-of-type {\n",
              "        vertical-align: middle;\n",
              "    }\n",
              "\n",
              "    .dataframe tbody tr th {\n",
              "        vertical-align: top;\n",
              "    }\n",
              "\n",
              "    .dataframe thead th {\n",
              "        text-align: right;\n",
              "    }\n",
              "</style>\n",
              "<table border=\"1\" class=\"dataframe\">\n",
              "  <thead>\n",
              "    <tr style=\"text-align: right;\">\n",
              "      <th></th>\n",
              "      <th>userId</th>\n",
              "      <th>movieId</th>\n",
              "      <th>rating</th>\n",
              "      <th>timestamp</th>\n",
              "    </tr>\n",
              "  </thead>\n",
              "  <tbody>\n",
              "    <tr>\n",
              "      <th>0</th>\n",
              "      <td>1</td>\n",
              "      <td>31</td>\n",
              "      <td>2.5</td>\n",
              "      <td>1260759144</td>\n",
              "    </tr>\n",
              "    <tr>\n",
              "      <th>1</th>\n",
              "      <td>1</td>\n",
              "      <td>1029</td>\n",
              "      <td>3.0</td>\n",
              "      <td>1260759179</td>\n",
              "    </tr>\n",
              "    <tr>\n",
              "      <th>2</th>\n",
              "      <td>1</td>\n",
              "      <td>1061</td>\n",
              "      <td>3.0</td>\n",
              "      <td>1260759182</td>\n",
              "    </tr>\n",
              "    <tr>\n",
              "      <th>3</th>\n",
              "      <td>1</td>\n",
              "      <td>1129</td>\n",
              "      <td>2.0</td>\n",
              "      <td>1260759185</td>\n",
              "    </tr>\n",
              "    <tr>\n",
              "      <th>4</th>\n",
              "      <td>1</td>\n",
              "      <td>1172</td>\n",
              "      <td>4.0</td>\n",
              "      <td>1260759205</td>\n",
              "    </tr>\n",
              "    <tr>\n",
              "      <th>5</th>\n",
              "      <td>1</td>\n",
              "      <td>1263</td>\n",
              "      <td>2.0</td>\n",
              "      <td>1260759151</td>\n",
              "    </tr>\n",
              "    <tr>\n",
              "      <th>6</th>\n",
              "      <td>1</td>\n",
              "      <td>1287</td>\n",
              "      <td>2.0</td>\n",
              "      <td>1260759187</td>\n",
              "    </tr>\n",
              "    <tr>\n",
              "      <th>7</th>\n",
              "      <td>1</td>\n",
              "      <td>1293</td>\n",
              "      <td>2.0</td>\n",
              "      <td>1260759148</td>\n",
              "    </tr>\n",
              "    <tr>\n",
              "      <th>8</th>\n",
              "      <td>1</td>\n",
              "      <td>1339</td>\n",
              "      <td>3.5</td>\n",
              "      <td>1260759125</td>\n",
              "    </tr>\n",
              "    <tr>\n",
              "      <th>9</th>\n",
              "      <td>1</td>\n",
              "      <td>1343</td>\n",
              "      <td>2.0</td>\n",
              "      <td>1260759131</td>\n",
              "    </tr>\n",
              "    <tr>\n",
              "      <th>10</th>\n",
              "      <td>1</td>\n",
              "      <td>1371</td>\n",
              "      <td>2.5</td>\n",
              "      <td>1260759135</td>\n",
              "    </tr>\n",
              "    <tr>\n",
              "      <th>11</th>\n",
              "      <td>1</td>\n",
              "      <td>1405</td>\n",
              "      <td>1.0</td>\n",
              "      <td>1260759203</td>\n",
              "    </tr>\n",
              "    <tr>\n",
              "      <th>12</th>\n",
              "      <td>1</td>\n",
              "      <td>1953</td>\n",
              "      <td>4.0</td>\n",
              "      <td>1260759191</td>\n",
              "    </tr>\n",
              "    <tr>\n",
              "      <th>13</th>\n",
              "      <td>1</td>\n",
              "      <td>2105</td>\n",
              "      <td>4.0</td>\n",
              "      <td>1260759139</td>\n",
              "    </tr>\n",
              "    <tr>\n",
              "      <th>14</th>\n",
              "      <td>1</td>\n",
              "      <td>2150</td>\n",
              "      <td>3.0</td>\n",
              "      <td>1260759194</td>\n",
              "    </tr>\n",
              "    <tr>\n",
              "      <th>15</th>\n",
              "      <td>1</td>\n",
              "      <td>2193</td>\n",
              "      <td>2.0</td>\n",
              "      <td>1260759198</td>\n",
              "    </tr>\n",
              "    <tr>\n",
              "      <th>16</th>\n",
              "      <td>1</td>\n",
              "      <td>2294</td>\n",
              "      <td>2.0</td>\n",
              "      <td>1260759108</td>\n",
              "    </tr>\n",
              "    <tr>\n",
              "      <th>17</th>\n",
              "      <td>1</td>\n",
              "      <td>2455</td>\n",
              "      <td>2.5</td>\n",
              "      <td>1260759113</td>\n",
              "    </tr>\n",
              "    <tr>\n",
              "      <th>18</th>\n",
              "      <td>1</td>\n",
              "      <td>2968</td>\n",
              "      <td>1.0</td>\n",
              "      <td>1260759200</td>\n",
              "    </tr>\n",
              "    <tr>\n",
              "      <th>19</th>\n",
              "      <td>1</td>\n",
              "      <td>3671</td>\n",
              "      <td>3.0</td>\n",
              "      <td>1260759117</td>\n",
              "    </tr>\n",
              "  </tbody>\n",
              "</table>\n",
              "</div>"
            ],
            "text/plain": [
              "    userId  movieId  rating   timestamp\n",
              "0        1       31     2.5  1260759144\n",
              "1        1     1029     3.0  1260759179\n",
              "2        1     1061     3.0  1260759182\n",
              "3        1     1129     2.0  1260759185\n",
              "4        1     1172     4.0  1260759205\n",
              "5        1     1263     2.0  1260759151\n",
              "6        1     1287     2.0  1260759187\n",
              "7        1     1293     2.0  1260759148\n",
              "8        1     1339     3.5  1260759125\n",
              "9        1     1343     2.0  1260759131\n",
              "10       1     1371     2.5  1260759135\n",
              "11       1     1405     1.0  1260759203\n",
              "12       1     1953     4.0  1260759191\n",
              "13       1     2105     4.0  1260759139\n",
              "14       1     2150     3.0  1260759194\n",
              "15       1     2193     2.0  1260759198\n",
              "16       1     2294     2.0  1260759108\n",
              "17       1     2455     2.5  1260759113\n",
              "18       1     2968     1.0  1260759200\n",
              "19       1     3671     3.0  1260759117"
            ]
          },
          "metadata": {
            "tags": []
          },
          "execution_count": 82
        }
      ]
    },
    {
      "cell_type": "code",
      "metadata": {
        "_uuid": "9c22aa0cc39595a4414d227a284f92b382eab67a",
        "_cell_guid": "e0701e4b-dde1-4791-b96e-faa4ae40df8e",
        "id": "zf8h2rEuusu9",
        "colab_type": "code",
        "colab": {
          "base_uri": "https://localhost:8080/",
          "height": 35
        },
        "outputId": "a93e35d1-33c1-4966-e924-496bb5299b06"
      },
      "source": [
        "svd.predict(1, 302, 3)"
      ],
      "execution_count": 83,
      "outputs": [
        {
          "output_type": "execute_result",
          "data": {
            "text/plain": [
              "Prediction(uid=1, iid=302, r_ui=3, est=2.7334589568182306, details={'was_impossible': False})"
            ]
          },
          "metadata": {
            "tags": []
          },
          "execution_count": 83
        }
      ]
    },
    {
      "cell_type": "markdown",
      "metadata": {
        "_uuid": "ba08a1dc335c8662f4bec66cec36fef04b2c63b5",
        "_cell_guid": "42878787-6661-4d30-b58a-c5408e683157",
        "id": "uj-36UOAusu_",
        "colab_type": "text"
      },
      "source": [
        "For movie with ID 302, we get an estimated prediction of **2.733**. One startling feature of this recommender system is that it doesn't care what the movie is (or what it contains). It works purely on the basis of an assigned movie ID and tries to predict ratings based on how the other users have predicted the movie."
      ]
    },
    {
      "cell_type": "markdown",
      "metadata": {
        "_uuid": "b6fe882ef8417e28bb024306a3879dc67affb7c6",
        "_cell_guid": "248ec145-20e4-429c-8718-5c20834be1be",
        "id": "NmABomXVusvA",
        "colab_type": "text"
      },
      "source": [
        "## Hybrid Recommender\n",
        "\n",
        "![](https://www.toonpool.com/user/250/files/hybrid_20095.jpg)"
      ]
    },
    {
      "cell_type": "markdown",
      "metadata": {
        "_uuid": "0bbff42606aede898eb199443c8c0c5e39a48650",
        "_cell_guid": "a22740ea-3bfd-4045-89f3-e4199b0c2c6a",
        "id": "gQR8x4DGusvA",
        "colab_type": "text"
      },
      "source": [
        "In this section, I will try to build a simple hybrid recommender that brings together techniques we have implemented in the content based and collaborative filter based engines. This is how it will work:\n",
        "\n",
        "* **Input:** User ID and the Title of a Movie\n",
        "* **Output:** Similar movies sorted on the basis of expected ratings by that particular user."
      ]
    },
    {
      "cell_type": "code",
      "metadata": {
        "_uuid": "299a5feac15cdb6fd01f4e243949ba2424f5901c",
        "_cell_guid": "97a7efdb-9b93-4ed2-ac89-45c2f99a7304",
        "id": "6FbqyWINusvA",
        "colab_type": "code",
        "colab": {}
      },
      "source": [
        "def convert_int(x):\n",
        "    try:\n",
        "        return int(x)\n",
        "    except:\n",
        "        return np.nan"
      ],
      "execution_count": 0,
      "outputs": []
    },
    {
      "cell_type": "code",
      "metadata": {
        "_uuid": "1d5f8381c8951f51e9e30d30a771fc7ded9761a2",
        "_cell_guid": "aae5c254-a6e7-40b3-bbda-b97a2d285ecd",
        "id": "jGvDbC7musvE",
        "colab_type": "code",
        "colab": {}
      },
      "source": [
        "id_map = pd.read_csv('./links_small.csv')[['movieId', 'tmdbId']]\n",
        "id_map['tmdbId'] = id_map['tmdbId'].apply(convert_int)\n",
        "id_map.columns = ['movieId', 'id']\n",
        "id_map = id_map.merge(smd[['title', 'id']], on='id').set_index('title')"
      ],
      "execution_count": 0,
      "outputs": []
    },
    {
      "cell_type": "code",
      "metadata": {
        "_uuid": "c2c54697ee62ecb46fdb33ffb53dcc27e5397253",
        "_cell_guid": "07adb6c6-af45-47cb-ae9f-6ab64f64e3e4",
        "id": "CaRCjBFTusvG",
        "colab_type": "code",
        "colab": {}
      },
      "source": [
        "indices_map = id_map.set_index('id')"
      ],
      "execution_count": 0,
      "outputs": []
    },
    {
      "cell_type": "code",
      "metadata": {
        "_uuid": "92291dbdbd9c9161d500476609c9cf95247e2b24",
        "_cell_guid": "46b03dde-afd4-45c3-a733-7ad894a31edb",
        "id": "aC0b7GmAusvI",
        "colab_type": "code",
        "colab": {}
      },
      "source": [
        "def hybrid(userId, title):\n",
        "    idx = indices[title]\n",
        "    tmdbId = id_map.loc[title]['id']\n",
        "    #print(idx)\n",
        "    movie_id = id_map.loc[title]['movieId']\n",
        "    \n",
        "    sim_scores = list(enumerate(cosine_sim[int(idx)]))\n",
        "    sim_scores = sorted(sim_scores, key=lambda x: x[1], reverse=True)\n",
        "    sim_scores = sim_scores[1:26]\n",
        "    movie_indices = [i[0] for i in sim_scores]\n",
        "    \n",
        "    movies = smd.iloc[movie_indices][['title', 'vote_count', 'vote_average', 'id']]\n",
        "    movies['est'] = movies['id'].apply(lambda x: svd.predict(userId, indices_map.loc[x]['movieId']).est)\n",
        "    movies = movies.sort_values('est', ascending=False)\n",
        "    return movies.head(10)"
      ],
      "execution_count": 0,
      "outputs": []
    },
    {
      "cell_type": "code",
      "metadata": {
        "_uuid": "5cea2292f710fae80d580aa43c713531e97451ad",
        "_cell_guid": "ef53f237-5dd0-4f62-8c32-e9666b2268f5",
        "id": "O9x9M7U7usvJ",
        "colab_type": "code",
        "colab": {
          "base_uri": "https://localhost:8080/",
          "height": 352
        },
        "outputId": "dfaf169f-c9f7-4f5d-e5df-6f3cddb61ce6"
      },
      "source": [
        "hybrid(1, 'Avatar')"
      ],
      "execution_count": 93,
      "outputs": [
        {
          "output_type": "execute_result",
          "data": {
            "text/html": [
              "<div>\n",
              "<style scoped>\n",
              "    .dataframe tbody tr th:only-of-type {\n",
              "        vertical-align: middle;\n",
              "    }\n",
              "\n",
              "    .dataframe tbody tr th {\n",
              "        vertical-align: top;\n",
              "    }\n",
              "\n",
              "    .dataframe thead th {\n",
              "        text-align: right;\n",
              "    }\n",
              "</style>\n",
              "<table border=\"1\" class=\"dataframe\">\n",
              "  <thead>\n",
              "    <tr style=\"text-align: right;\">\n",
              "      <th></th>\n",
              "      <th>title</th>\n",
              "      <th>vote_count</th>\n",
              "      <th>vote_average</th>\n",
              "      <th>id</th>\n",
              "      <th>est</th>\n",
              "    </tr>\n",
              "  </thead>\n",
              "  <tbody>\n",
              "    <tr>\n",
              "      <th>522</th>\n",
              "      <td>Terminator 2: Judgment Day</td>\n",
              "      <td>4274.0</td>\n",
              "      <td>7.7</td>\n",
              "      <td>280</td>\n",
              "      <td>3.239927</td>\n",
              "    </tr>\n",
              "    <tr>\n",
              "      <th>8658</th>\n",
              "      <td>X-Men: Days of Future Past</td>\n",
              "      <td>6155.0</td>\n",
              "      <td>7.5</td>\n",
              "      <td>127585</td>\n",
              "      <td>3.025633</td>\n",
              "    </tr>\n",
              "    <tr>\n",
              "      <th>8401</th>\n",
              "      <td>Star Trek Into Darkness</td>\n",
              "      <td>4479.0</td>\n",
              "      <td>7.4</td>\n",
              "      <td>54138</td>\n",
              "      <td>3.018089</td>\n",
              "    </tr>\n",
              "    <tr>\n",
              "      <th>1011</th>\n",
              "      <td>The Terminator</td>\n",
              "      <td>4208.0</td>\n",
              "      <td>7.4</td>\n",
              "      <td>218</td>\n",
              "      <td>2.961478</td>\n",
              "    </tr>\n",
              "    <tr>\n",
              "      <th>2014</th>\n",
              "      <td>Fantastic Planet</td>\n",
              "      <td>140.0</td>\n",
              "      <td>7.6</td>\n",
              "      <td>16306</td>\n",
              "      <td>2.863653</td>\n",
              "    </tr>\n",
              "    <tr>\n",
              "      <th>2834</th>\n",
              "      <td>Predator</td>\n",
              "      <td>2129.0</td>\n",
              "      <td>7.3</td>\n",
              "      <td>106</td>\n",
              "      <td>2.826479</td>\n",
              "    </tr>\n",
              "    <tr>\n",
              "      <th>974</th>\n",
              "      <td>Aliens</td>\n",
              "      <td>3282.0</td>\n",
              "      <td>7.7</td>\n",
              "      <td>679</td>\n",
              "      <td>2.792494</td>\n",
              "    </tr>\n",
              "    <tr>\n",
              "      <th>8865</th>\n",
              "      <td>Star Wars: The Force Awakens</td>\n",
              "      <td>7993.0</td>\n",
              "      <td>7.5</td>\n",
              "      <td>140607</td>\n",
              "      <td>2.761629</td>\n",
              "    </tr>\n",
              "    <tr>\n",
              "      <th>922</th>\n",
              "      <td>The Abyss</td>\n",
              "      <td>822.0</td>\n",
              "      <td>7.1</td>\n",
              "      <td>2756</td>\n",
              "      <td>2.759914</td>\n",
              "    </tr>\n",
              "    <tr>\n",
              "      <th>1668</th>\n",
              "      <td>Return from Witch Mountain</td>\n",
              "      <td>38.0</td>\n",
              "      <td>5.6</td>\n",
              "      <td>14822</td>\n",
              "      <td>2.749868</td>\n",
              "    </tr>\n",
              "  </tbody>\n",
              "</table>\n",
              "</div>"
            ],
            "text/plain": [
              "                             title  vote_count  vote_average      id       est\n",
              "522     Terminator 2: Judgment Day      4274.0           7.7     280  3.239927\n",
              "8658    X-Men: Days of Future Past      6155.0           7.5  127585  3.025633\n",
              "8401       Star Trek Into Darkness      4479.0           7.4   54138  3.018089\n",
              "1011                The Terminator      4208.0           7.4     218  2.961478\n",
              "2014              Fantastic Planet       140.0           7.6   16306  2.863653\n",
              "2834                      Predator      2129.0           7.3     106  2.826479\n",
              "974                         Aliens      3282.0           7.7     679  2.792494\n",
              "8865  Star Wars: The Force Awakens      7993.0           7.5  140607  2.761629\n",
              "922                      The Abyss       822.0           7.1    2756  2.759914\n",
              "1668    Return from Witch Mountain        38.0           5.6   14822  2.749868"
            ]
          },
          "metadata": {
            "tags": []
          },
          "execution_count": 93
        }
      ]
    },
    {
      "cell_type": "code",
      "metadata": {
        "_uuid": "7fc2843807a5fbe792729eee7c74e9cabc6867ca",
        "_cell_guid": "381aba27-ecfa-43f1-9dad-c3379a57b8d9",
        "id": "pJwtFRssusvN",
        "colab_type": "code",
        "colab": {
          "base_uri": "https://localhost:8080/",
          "height": 352
        },
        "outputId": "515b39c8-6737-40f3-ed7f-28577f4bc502"
      },
      "source": [
        "hybrid(500, 'Avatar')"
      ],
      "execution_count": 94,
      "outputs": [
        {
          "output_type": "execute_result",
          "data": {
            "text/html": [
              "<div>\n",
              "<style scoped>\n",
              "    .dataframe tbody tr th:only-of-type {\n",
              "        vertical-align: middle;\n",
              "    }\n",
              "\n",
              "    .dataframe tbody tr th {\n",
              "        vertical-align: top;\n",
              "    }\n",
              "\n",
              "    .dataframe thead th {\n",
              "        text-align: right;\n",
              "    }\n",
              "</style>\n",
              "<table border=\"1\" class=\"dataframe\">\n",
              "  <thead>\n",
              "    <tr style=\"text-align: right;\">\n",
              "      <th></th>\n",
              "      <th>title</th>\n",
              "      <th>vote_count</th>\n",
              "      <th>vote_average</th>\n",
              "      <th>id</th>\n",
              "      <th>est</th>\n",
              "    </tr>\n",
              "  </thead>\n",
              "  <tbody>\n",
              "    <tr>\n",
              "      <th>974</th>\n",
              "      <td>Aliens</td>\n",
              "      <td>3282.0</td>\n",
              "      <td>7.7</td>\n",
              "      <td>679</td>\n",
              "      <td>3.228873</td>\n",
              "    </tr>\n",
              "    <tr>\n",
              "      <th>922</th>\n",
              "      <td>The Abyss</td>\n",
              "      <td>822.0</td>\n",
              "      <td>7.1</td>\n",
              "      <td>2756</td>\n",
              "      <td>3.203946</td>\n",
              "    </tr>\n",
              "    <tr>\n",
              "      <th>1011</th>\n",
              "      <td>The Terminator</td>\n",
              "      <td>4208.0</td>\n",
              "      <td>7.4</td>\n",
              "      <td>218</td>\n",
              "      <td>3.189831</td>\n",
              "    </tr>\n",
              "    <tr>\n",
              "      <th>8724</th>\n",
              "      <td>Jupiter Ascending</td>\n",
              "      <td>2816.0</td>\n",
              "      <td>5.2</td>\n",
              "      <td>76757</td>\n",
              "      <td>3.165454</td>\n",
              "    </tr>\n",
              "    <tr>\n",
              "      <th>522</th>\n",
              "      <td>Terminator 2: Judgment Day</td>\n",
              "      <td>4274.0</td>\n",
              "      <td>7.7</td>\n",
              "      <td>280</td>\n",
              "      <td>3.063325</td>\n",
              "    </tr>\n",
              "    <tr>\n",
              "      <th>7265</th>\n",
              "      <td>Dragonball Evolution</td>\n",
              "      <td>475.0</td>\n",
              "      <td>2.9</td>\n",
              "      <td>14164</td>\n",
              "      <td>3.005450</td>\n",
              "    </tr>\n",
              "    <tr>\n",
              "      <th>7705</th>\n",
              "      <td>Alice in Wonderland</td>\n",
              "      <td>8.0</td>\n",
              "      <td>5.4</td>\n",
              "      <td>25694</td>\n",
              "      <td>2.980410</td>\n",
              "    </tr>\n",
              "    <tr>\n",
              "      <th>2834</th>\n",
              "      <td>Predator</td>\n",
              "      <td>2129.0</td>\n",
              "      <td>7.3</td>\n",
              "      <td>106</td>\n",
              "      <td>2.932023</td>\n",
              "    </tr>\n",
              "    <tr>\n",
              "      <th>3060</th>\n",
              "      <td>Sinbad and the Eye of the Tiger</td>\n",
              "      <td>39.0</td>\n",
              "      <td>6.3</td>\n",
              "      <td>11940</td>\n",
              "      <td>2.924605</td>\n",
              "    </tr>\n",
              "    <tr>\n",
              "      <th>1668</th>\n",
              "      <td>Return from Witch Mountain</td>\n",
              "      <td>38.0</td>\n",
              "      <td>5.6</td>\n",
              "      <td>14822</td>\n",
              "      <td>2.916010</td>\n",
              "    </tr>\n",
              "  </tbody>\n",
              "</table>\n",
              "</div>"
            ],
            "text/plain": [
              "                                title  vote_count  ...     id       est\n",
              "974                            Aliens      3282.0  ...    679  3.228873\n",
              "922                         The Abyss       822.0  ...   2756  3.203946\n",
              "1011                   The Terminator      4208.0  ...    218  3.189831\n",
              "8724                Jupiter Ascending      2816.0  ...  76757  3.165454\n",
              "522        Terminator 2: Judgment Day      4274.0  ...    280  3.063325\n",
              "7265             Dragonball Evolution       475.0  ...  14164  3.005450\n",
              "7705              Alice in Wonderland         8.0  ...  25694  2.980410\n",
              "2834                         Predator      2129.0  ...    106  2.932023\n",
              "3060  Sinbad and the Eye of the Tiger        39.0  ...  11940  2.924605\n",
              "1668       Return from Witch Mountain        38.0  ...  14822  2.916010\n",
              "\n",
              "[10 rows x 5 columns]"
            ]
          },
          "metadata": {
            "tags": []
          },
          "execution_count": 94
        }
      ]
    },
    {
      "cell_type": "markdown",
      "metadata": {
        "_uuid": "446cdfa0b07f4f734d483393d56735c280978555",
        "_cell_guid": "ca97ebb9-d1d2-4631-a15e-d29580c6c4d1",
        "id": "91HqDp6nusvP",
        "colab_type": "text"
      },
      "source": [
        "We see that for our hybrid recommender, we get different recommendations for different users although the movie is the same. Hence, our recommendations are more personalized and tailored towards particular users."
      ]
    },
    {
      "cell_type": "markdown",
      "metadata": {
        "_uuid": "ad1edcae8eecd5c725edbe18082bc4d8103ca800",
        "_cell_guid": "812fc4c7-b334-4f54-a05f-8fc0e7962a92",
        "id": "3DgtklfGusvQ",
        "colab_type": "text"
      },
      "source": [
        "## Conclusion\n",
        "\n",
        "In this notebook, I have built 4 different recommendation engines based on different ideas and algorithms. They are as follows:\n",
        "\n",
        "1. **Simple Recommender:** This system used overall TMDB Vote Count and Vote Averages to build Top Movies Charts, in general and for a specific genre. The IMDB Weighted Rating System was used to calculate ratings on which the sorting was finally performed.\n",
        "2. **Content Based Recommender:** We built two content based engines; one that took movie overview and taglines as input and the other which took metadata such as cast, crew, genre and keywords to come up with predictions. We also deviced a simple filter to give greater preference to movies with more votes and higher ratings.\n",
        "3. **Collaborative Filtering:** We used the powerful Surprise Library to build a collaborative filter based on single value decomposition. The RMSE obtained was less than 1 and the engine gave estimated ratings for a given user and movie.\n",
        "4. **Hybrid Engine:** We brought together ideas from content and collaborative filterting to build an engine that gave movie suggestions to a particular user based on the estimated ratings that it had internally calculated for that user.\n",
        "\n"
      ]
    }
  ]
}
